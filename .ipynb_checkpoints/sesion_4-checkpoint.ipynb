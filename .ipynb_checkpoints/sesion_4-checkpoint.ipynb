{
 "cells": [
  {
   "cell_type": "markdown",
   "id": "951d46a3-de0a-4b0f-9923-3ddf4f0000a8",
   "metadata": {},
   "source": [
    "<center><img src=\"https://i.imgur.com/YNtjmbq.png\" width=\"800\"></center> "
   ]
  },
  {
   "cell_type": "markdown",
   "id": "3e4f7a3b",
   "metadata": {},
   "source": [
    "<div class=\"alert alert-info\" role=\"alert\">\n",
    "    \n",
    "## Data para la sesión\n",
    "\n",
    "Para esta sesión, los datos puedes descargarlos en _tu_ carpeta **data** desde este [enlace](https://drive.google.com/drive/folders/1n5z4r2LAAXuEPC5chq5sZkHf5I3QcUKX?usp=sharing).\n",
    "</div>\n",
    "\n"
   ]
  },
  {
   "cell_type": "markdown",
   "id": "a8607510-5230-4696-af43-acfc51c0237c",
   "metadata": {},
   "source": [
    "# Práctica 4 – Exploración de Redes\n"
   ]
  },
  {
   "cell_type": "code",
   "execution_count": 1,
   "id": "c4cb7f61-0e5a-4526-9e24-9ed4010aaa86",
   "metadata": {},
   "outputs": [
    {
     "name": "stdout",
     "output_type": "stream",
     "text": [
      "Name: igraph\n",
      "Version: 0.11.5\n",
      "Summary: High performance graph data structures and algorithms\n",
      "Home-page: https://igraph.org/python\n",
      "Author: Tamas Nepusz\n",
      "Author-email: ntamas@gmail.com\n",
      "License: GNU General Public License (GPL)\n",
      "Location: /Users/JoseManuel/opt/anaconda3/envs/ASIES/lib/python3.11/site-packages\n",
      "Requires: texttable\n",
      "Required-by: \n",
      "Note: you may need to restart the kernel to use updated packages.\n"
     ]
    }
   ],
   "source": [
    "pip show igraph"
   ]
  },
  {
   "cell_type": "code",
   "execution_count": 7,
   "id": "8dfe6fb7-bbf4-42b6-8f1b-d59045132409",
   "metadata": {},
   "outputs": [
    {
     "name": "stdout",
     "output_type": "stream",
     "text": [
      "IGRAPH D-W- 232 4112 -- \n",
      "+ attr: b (v), cluster (v), description (v), g (v), id (v), label (v), r (v), score<journal_impact_factor> (v), size (v), weight<citations> (v), weight<links> (v), weight<total_link_strength> (v), x (v), y (v), Edge Label (e), id (e), weight (e)\n"
     ]
    }
   ],
   "source": [
    "import igraph as ig\n",
    "\n",
    "test=ig.Graph.Read_GraphML(\"data/journal.graphml\")\n",
    "ig.summary(test)"
   ]
  },
  {
   "cell_type": "code",
   "execution_count": 8,
   "id": "f06165ae-d2c5-4bbb-9f44-6d537e93211d",
   "metadata": {},
   "outputs": [],
   "source": [
    "import networkx as nx\n",
    "\n",
    "test2=nx.read_graphml(\"data/journal.graphml\")\n"
   ]
  },
  {
   "cell_type": "code",
   "execution_count": 47,
   "id": "4db0b75e-4395-4ca9-8c62-c32473299ee5",
   "metadata": {},
   "outputs": [
    {
     "data": {
      "text/plain": [
       "NodeDataView({'1': {'label': 'eur j oper res', 'description': '<table><tr><td>Journal:</td><td>EUROPEAN JOURNAL OF OPERATIONAL RESEARCH</td></tr><tr><td>ISSN:</td><td>0377-2217</td></tr><tr></tr></table>', 'cluster': 3, 'weight<links>': 78, 'weight<total_link_strength>': 493, 'weight<citations>': 892, 'score<journal_impact_factor>': 1.096, 'size': 40.065506, 'r': 0, 'g': 0, 'b': 0, 'x': -526.2414, 'y': 362.03247}, '2': {'label': 'am econ rev', 'description': '<table><tr><td>Journal:</td><td>AMERICAN ECONOMIC REVIEW</td></tr><tr><td>ISSN:</td><td>0002-8282</td></tr><tr></tr></table>', 'cluster': 1, 'weight<links>': 115, 'weight<total_link_strength>': 602, 'weight<citations>': 643, 'score<journal_impact_factor>': 2.239, 'size': 90.0, 'r': 0, 'g': 0, 'b': 0, 'x': 395.52368, 'y': 595.9958}, '3': {'label': 'j financ', 'description': '<table><tr><td>Journal:</td><td>JOURNAL OF FINANCE</td></tr><tr><td>ISSN:</td><td>0022-1082</td></tr><tr></tr></table>', 'cluster': 5, 'weight<links>': 92, 'weight<total_link_strength>': 563, 'weight<citations>': 518, 'score<journal_impact_factor>': 3.353, 'size': 49.41081, 'r': 0, 'g': 0, 'b': 0, 'x': 591.193, 'y': 527.803}, '4': {'label': 'acad manage j', 'description': '<table><tr><td>Journal:</td><td>ACADEMY OF MANAGEMENT JOURNAL</td></tr><tr><td>ISSN:</td><td>0001-4273</td></tr><tr></tr></table>', 'cluster': 2, 'weight<links>': 96, 'weight<total_link_strength>': 552, 'weight<citations>': 450, 'score<journal_impact_factor>': 5.017, 'size': 52.08685, 'r': 0, 'g': 0, 'b': 0, 'x': -36.471222, 'y': 1041.7343}, '5': {'label': 'manage sci', 'description': '<table><tr><td>Journal:</td><td>MANAGEMENT SCIENCE</td></tr><tr><td>ISSN:</td><td>0025-1909</td></tr><tr></tr></table>', 'cluster': 3, 'weight<links>': 115, 'weight<total_link_strength>': 440, 'weight<citations>': 445, 'score<journal_impact_factor>': 1.931, 'size': 75.88948, 'r': 0, 'g': 0, 'b': 0, 'x': -576.4696, 'y': 426.28308}, '6': {'label': 'j financ econ', 'description': '<table><tr><td>Journal:</td><td>JOURNAL OF FINANCIAL ECONOMICS</td></tr><tr><td>ISSN:</td><td>0304-405X</td></tr><tr></tr></table>', 'cluster': 5, 'weight<links>': 83, 'weight<total_link_strength>': 461, 'weight<citations>': 440, 'score<journal_impact_factor>': 2.988, 'size': 40.065506, 'r': 0, 'g': 0, 'b': 0, 'x': 595.63055, 'y': 530.2086}, '7': {'label': 'comput oper res', 'description': '<table><tr><td>Journal:</td><td>COMPUTERS & OPERATIONS RESEARCH</td></tr><tr><td>ISSN:</td><td>0305-0548</td></tr><tr></tr></table>', 'cluster': 3, 'weight<links>': 36, 'weight<total_link_strength>': 254, 'weight<citations>': 439, 'score<journal_impact_factor>': 1.147, 'size': 15.088079, 'r': 0, 'g': 0, 'b': 0, 'x': -421.56873, 'y': 388.5883}, '8': {'label': 'ecol econ', 'description': '<table><tr><td>Journal:</td><td>ECOLOGICAL ECONOMICS</td></tr><tr><td>ISSN:</td><td>0921-8009</td></tr><tr></tr></table>', 'cluster': 1, 'weight<links>': 54, 'weight<total_link_strength>': 116, 'weight<citations>': 422, 'score<journal_impact_factor>': 1.549, 'size': 23.587107, 'r': 0, 'g': 0, 'b': 0, 'x': -39.543617, 'y': 75.02013}, '9': {'label': 'j polit econ', 'description': '<table><tr><td>Journal:</td><td>JOURNAL OF POLITICAL ECONOMY</td></tr><tr><td>ISSN:</td><td>0022-3808</td></tr><tr></tr></table>', 'cluster': 1, 'weight<links>': 83, 'weight<total_link_strength>': 395, 'weight<citations>': 415, 'score<journal_impact_factor>': 4.19, 'size': 39.361507, 'r': 0, 'g': 0, 'b': 0, 'x': 362.69653, 'y': 621.97217}, '10': {'label': 'health econ', 'description': '<table><tr><td>Journal:</td><td>HEALTH ECONOMICS</td></tr><tr><td>ISSN:</td><td>1057-9230</td></tr><tr></tr></table>', 'cluster': 1, 'weight<links>': 34, 'weight<total_link_strength>': 67, 'weight<citations>': 348, 'score<journal_impact_factor>': 1.648, 'size': 13.697181, 'r': 0, 'g': 0, 'b': 0, 'x': 239.1696, 'y': 394.04507}, '11': {'label': 'j bus res', 'description': '<table><tr><td>Journal:</td><td>JOURNAL OF BUSINESS RESEARCH</td></tr><tr><td>ISSN:</td><td>0148-2963</td></tr><tr></tr></table>', 'cluster': 4, 'weight<links>': 90, 'weight<total_link_strength>': 327, 'weight<citations>': 329, 'score<journal_impact_factor>': 0.878, 'size': 44.508175, 'r': 0, 'g': 0, 'b': 0, 'x': -522.1703, 'y': 818.23035}, '12': {'label': 'j econometrics', 'description': '<table><tr><td>Journal:</td><td>JOURNAL OF ECONOMETRICS</td></tr><tr><td>ISSN:</td><td>0304-4076</td></tr><tr></tr></table>', 'cluster': 1, 'weight<links>': 60, 'weight<total_link_strength>': 172, 'weight<citations>': 318, 'score<journal_impact_factor>': 1.99, 'size': 23.587107, 'r': 0, 'g': 0, 'b': 0, 'x': 387.35812, 'y': 714.44147}, '13': {'label': 'j public econ', 'description': '<table><tr><td>Journal:</td><td>JOURNAL OF PUBLIC ECONOMICS</td></tr><tr><td>ISSN:</td><td>0047-2727</td></tr><tr></tr></table>', 'cluster': 1, 'weight<links>': 72, 'weight<total_link_strength>': 241, 'weight<citations>': 316, 'score<journal_impact_factor>': 1.403, 'size': 31.554064, 'r': 0, 'g': 0, 'b': 0, 'x': 390.4685, 'y': 663.1498}, '14': {'label': 'acad manage rev', 'description': '<table><tr><td>Journal:</td><td>ACADEMY OF MANAGEMENT REVIEW</td></tr><tr><td>ISSN:</td><td>0363-7425</td></tr><tr></tr></table>', 'cluster': 2, 'weight<links>': 82, 'weight<total_link_strength>': 367, 'weight<citations>': 314, 'score<journal_impact_factor>': 4.372, 'size': 37.981113, 'r': 0, 'g': 0, 'b': 0, 'x': -36.193405, 'y': 1092.6603}, '15': {'label': 'strategic manage j', 'description': '<table><tr><td>Journal:</td><td>STRATEGIC MANAGEMENT JOURNAL</td></tr><tr><td>ISSN:</td><td>0143-2095</td></tr><tr></tr></table>', 'cluster': 2, 'weight<links>': 90, 'weight<total_link_strength>': 421, 'weight<citations>': 307, 'score<journal_impact_factor>': 2.829, 'size': 42.982563, 'r': 0, 'g': 0, 'b': 0, 'x': -55.720135, 'y': 1013.69415}, '16': {'label': 'econometrica', 'description': '<table><tr><td>Journal:</td><td>ECONOMETRICA</td></tr><tr><td>ISSN:</td><td>0012-9682</td></tr><tr></tr></table>', 'cluster': 1, 'weight<links>': 49, 'weight<total_link_strength>': 170, 'weight<citations>': 300, 'score<journal_impact_factor>': 2.972, 'size': 18.454252, 'r': 0, 'g': 0, 'b': 0, 'x': 425.04944, 'y': 554.5924}, '17': {'label': 'world dev', 'description': '<table><tr><td>Journal:</td><td>WORLD DEVELOPMENT</td></tr><tr><td>ISSN:</td><td>0305-750X</td></tr><tr></tr></table>', 'cluster': 1, 'weight<links>': 38, 'weight<total_link_strength>': 86, 'weight<citations>': 295, 'score<journal_impact_factor>': 1.565, 'size': 13.697181, 'r': 0, 'g': 0, 'b': 0, 'x': 181.14288, 'y': 728.8993}, '18': {'label': 'int j prod res', 'description': '<table><tr><td>Journal:</td><td>INTERNATIONAL JOURNAL OF PRODUCTION RESEARCH</td></tr><tr><td>ISSN:</td><td>0020-7543</td></tr><tr></tr></table>', 'cluster': 3, 'weight<links>': 42, 'weight<total_link_strength>': 186, 'weight<citations>': 291, 'score<journal_impact_factor>': 0.56, 'size': 16.03222, 'r': 0, 'g': 0, 'b': 0, 'x': -503.80432, 'y': 514.94464}, '19': {'label': 'q j econ', 'description': '<table><tr><td>Journal:</td><td>QUARTERLY JOURNAL OF ECONOMICS</td></tr><tr><td>ISSN:</td><td>0033-5533</td></tr><tr></tr></table>', 'cluster': 1, 'weight<links>': 83, 'weight<total_link_strength>': 314, 'weight<citations>': 284, 'score<journal_impact_factor>': 3.688, 'size': 35.9746, 'r': 0, 'g': 0, 'b': 0, 'x': 440.48395, 'y': 534.83435}, '20': {'label': 'j marketing', 'description': '<table><tr><td>Journal:</td><td>JOURNAL OF MARKETING</td></tr><tr><td>ISSN:</td><td>0022-2429</td></tr><tr></tr></table>', 'cluster': 4, 'weight<links>': 74, 'weight<total_link_strength>': 358, 'weight<citations>': 283, 'score<journal_impact_factor>': 3.75, 'size': 30.94917, 'r': 0, 'g': 0, 'b': 0, 'x': -605.7574, 'y': 814.4166}, '21': {'label': 'int j prod econ', 'description': '<table><tr><td>Journal:</td><td>INTERNATIONAL JOURNAL OF PRODUCTION ECONOMICS</td></tr><tr><td>ISSN:</td><td>0925-5273</td></tr><tr></tr></table>', 'cluster': 3, 'weight<links>': 50, 'weight<total_link_strength>': 212, 'weight<citations>': 274, 'score<journal_impact_factor>': 0.995, 'size': 18.949646, 'r': 0, 'g': 0, 'b': 0, 'x': -532.03326, 'y': 384.08585}, '22': {'label': 'expert syst appl', 'description': '<table><tr><td>Journal:</td><td>EXPERT SYSTEMS WITH APPLICATIONS</td></tr><tr><td>ISSN:</td><td>0957-4174</td></tr><tr></tr></table>', 'cluster': 3, 'weight<links>': 29, 'weight<total_link_strength>': 95, 'weight<citations>': 269, 'score<journal_impact_factor>': 1.177, 'size': 10.564896, 'r': 0, 'g': 0, 'b': 0, 'x': -531.76074, 'y': 499.4903}, '23': {'label': 'organ sci', 'description': '<table><tr><td>Journal:</td><td>ORGANIZATION SCIENCE</td></tr><tr><td>ISSN:</td><td>1047-7039</td></tr><tr></tr></table>', 'cluster': 2, 'weight<links>': 77, 'weight<total_link_strength>': 373, 'weight<citations>': 269, 'score<journal_impact_factor>': 3.13, 'size': 30.94917, 'r': 0, 'g': 0, 'b': 0, 'x': -42.74262, 'y': 1036.1465}, '24': {'label': 'res policy', 'description': '<table><tr><td>Journal:</td><td>RESEARCH POLICY</td></tr><tr><td>ISSN:</td><td>0048-7333</td></tr><tr></tr></table>', 'cluster': 2, 'weight<links>': 77, 'weight<total_link_strength>': 217, 'weight<citations>': 257, 'score<journal_impact_factor>': 2.211, 'size': 31.554064, 'r': 0, 'g': 0, 'b': 0, 'x': -44.712914, 'y': 832.94556}, '25': {'label': 'organ stud', 'description': '<table><tr><td>Journal:</td><td>ORGANIZATION STUDIES</td></tr><tr><td>ISSN:</td><td>0170-8406</td></tr><tr></tr></table>', 'cluster': 2, 'weight<links>': 80, 'weight<total_link_strength>': 287, 'weight<citations>': 256, 'score<journal_impact_factor>': 2.042, 'size': 34.038147, 'r': 0, 'g': 0, 'b': 0, 'x': -65.8973, 'y': 1067.2131}, '26': {'label': 'econ j', 'description': '<table><tr><td>Journal:</td><td>ECONOMIC JOURNAL</td></tr><tr><td>ISSN:</td><td>0013-0133</td></tr><tr></tr></table>', 'cluster': 1, 'weight<links>': 80, 'weight<total_link_strength>': 199, 'weight<citations>': 254, 'score<journal_impact_factor>': 1.548, 'size': 32.782837, 'r': 0, 'g': 0, 'b': 0, 'x': 441.6437, 'y': 596.7977}, '27': {'label': 'harvard bus rev', 'description': '<table><tr><td>Journal:</td><td>HARVARD BUSINESS REVIEW</td></tr><tr><td>ISSN:</td><td>0017-8012</td></tr><tr></tr></table>', 'cluster': 2, 'weight<links>': 69, 'weight<total_link_strength>': 219, 'weight<citations>': 240, 'score<journal_impact_factor>': 1.323, 'size': 25.760986, 'r': 0, 'g': 0, 'b': 0, 'x': -59.401287, 'y': 1177.1539}, '28': {'label': 'j manage stud', 'description': '<table><tr><td>Journal:</td><td>JOURNAL OF MANAGEMENT STUDIES</td></tr><tr><td>ISSN:</td><td>0022-2380</td></tr><tr></tr></table>', 'cluster': 2, 'weight<links>': 67, 'weight<total_link_strength>': 286, 'weight<citations>': 240, 'score<journal_impact_factor>': 1.926, 'size': 25.760986, 'r': 0, 'g': 0, 'b': 0, 'x': -157.09296, 'y': 1058.9869}, '29': {'label': 'rev econ stud', 'description': '<table><tr><td>Journal:</td><td>REVIEW OF ECONOMIC STUDIES</td></tr><tr><td>ISSN:</td><td>0034-6527</td></tr><tr></tr></table>', 'cluster': 1, 'weight<links>': 87, 'weight<total_link_strength>': 231, 'weight<citations>': 239, 'score<journal_impact_factor>': 2.539, 'size': 38.666824, 'r': 0, 'g': 0, 'b': 0, 'x': 415.20493, 'y': 587.7935}, '30': {'label': 'mis quart', 'description': '<table><tr><td>Journal:</td><td>MIS QUARTERLY</td></tr><tr><td>ISSN:</td><td>0276-7783</td></tr><tr></tr></table>', 'cluster': 4, 'weight<links>': 52, 'weight<total_link_strength>': 229, 'weight<citations>': 238, 'score<journal_impact_factor>': 5.826, 'size': 16.990261, 'r': 0, 'g': 0, 'b': 0, 'x': -487.12622, 'y': 574.8093}, '31': {'label': 'j int econ', 'description': '<table><tr><td>Journal:</td><td>JOURNAL OF INTERNATIONAL ECONOMICS</td></tr><tr><td>ISSN:</td><td>0022-1996</td></tr><tr></tr></table>', 'cluster': 1, 'weight<links>': 53, 'weight<total_link_strength>': 203, 'weight<citations>': 236, 'score<journal_impact_factor>': 1.541, 'size': 19.448835, 'r': 0, 'g': 0, 'b': 0, 'x': 511.15857, 'y': 635.4253}, '32': {'label': 'eur econ rev', 'description': '<table><tr><td>Journal:</td><td>EUROPEAN ECONOMIC REVIEW</td></tr><tr><td>ISSN:</td><td>0014-2921</td></tr><tr></tr></table>', 'cluster': 1, 'weight<links>': 65, 'weight<total_link_strength>': 161, 'weight<citations>': 235, 'score<journal_impact_factor>': 0.994, 'size': 24.123634, 'r': 0, 'g': 0, 'b': 0, 'x': 457.374, 'y': 454.25067}, '33': {'label': 'j econ perspect', 'description': '<table><tr><td>Journal:</td><td>JOURNAL OF ECONOMIC PERSPECTIVES</td></tr><tr><td>ISSN:</td><td>0895-3309</td></tr><tr></tr></table>', 'cluster': 1, 'weight<links>': 76, 'weight<total_link_strength>': 193, 'weight<citations>': 230, 'score<journal_impact_factor>': 2.831, 'size': 25.21047, 'r': 0, 'g': 0, 'b': 0, 'x': 408.5452, 'y': 606.9675}, '34': {'label': 'rev econ stat', 'description': '<table><tr><td>Journal:</td><td>REVIEW OF ECONOMICS AND STATISTICS</td></tr><tr><td>ISSN:</td><td>0034-6535</td></tr><tr></tr></table>', 'cluster': 1, 'weight<links>': 76, 'weight<total_link_strength>': 195, 'weight<citations>': 226, 'score<journal_impact_factor>': 1.724, 'size': 26.316362, 'r': 0, 'g': 0, 'b': 0, 'x': 429.1136, 'y': 455.2677}, '35': {'label': 'j health econ', 'description': '<table><tr><td>Journal:</td><td>JOURNAL OF HEALTH ECONOMICS</td></tr><tr><td>ISSN:</td><td>0167-6296</td></tr><tr></tr></table>', 'cluster': 1, 'weight<links>': 35, 'weight<total_link_strength>': 96, 'weight<citations>': 220, 'score<journal_impact_factor>': 1.521, 'size': 8.843412, 'r': 0, 'g': 0, 'b': 0, 'x': 296.8839, 'y': 289.1192}, '36': {'label': 'market sci', 'description': '<table><tr><td>Journal:</td><td>MARKETING SCIENCE</td></tr><tr><td>ISSN:</td><td>0732-2399</td></tr><tr></tr></table>', 'cluster': 4, 'weight<links>': 47, 'weight<total_link_strength>': 163, 'weight<citations>': 218, 'score<journal_impact_factor>': 3.964, 'size': 12.786344, 'r': 0, 'g': 0, 'b': 0, 'x': -404.99805, 'y': 955.8023}, '37': {'label': 'decis support syst', 'description': '<table><tr><td>Journal:</td><td>DECISION SUPPORT SYSTEMS</td></tr><tr><td>ISSN:</td><td>0167-9236</td></tr><tr></tr></table>', 'cluster': 3, 'weight<links>': 31, 'weight<total_link_strength>': 114, 'weight<citations>': 216, 'score<journal_impact_factor>': 1.119, 'size': 9.269212, 'r': 0, 'g': 0, 'b': 0, 'x': -278.43594, 'y': 598.7094}, '38': {'label': 'j consum res', 'description': '<table><tr><td>Journal:</td><td>JOURNAL OF CONSUMER RESEARCH</td></tr><tr><td>ISSN:</td><td>0093-5301</td></tr><tr></tr></table>', 'cluster': 4, 'weight<links>': 35, 'weight<total_link_strength>': 118, 'weight<citations>': 215, 'score<journal_impact_factor>': 1.738, 'size': 9.269212, 'r': 0, 'g': 0, 'b': 0, 'x': -468.40845, 'y': 845.2569}, '39': {'label': 'j monetary econ', 'description': '<table><tr><td>Journal:</td><td>JOURNAL OF MONETARY ECONOMICS</td></tr><tr><td>ISSN:</td><td>0304-3932</td></tr><tr></tr></table>', 'cluster': 1, 'weight<links>': 56, 'weight<total_link_strength>': 254, 'weight<citations>': 203, 'score<journal_impact_factor>': 1.478, 'size': 18.949646, 'r': 0, 'g': 0, 'b': 0, 'x': 470.66107, 'y': 517.2432}, '40': {'label': 'j optimiz theory app', 'description': '<table><tr><td>Journal:</td><td>JOURNAL OF OPTIMIZATION THEORY AND APPLICATIONS</td></tr><tr><td>ISSN:</td><td>0022-3239</td></tr><tr></tr></table>', 'cluster': 3, 'weight<links>': 15, 'weight<total_link_strength>': 38, 'weight<citations>': 201, 'score<journal_impact_factor>': 0.688, 'size': 4.3602505, 'r': 0, 'g': 0, 'b': 0, 'x': -496.40704, 'y': 322.10828}, '41': {'label': 'j bank financ', 'description': '<table><tr><td>Journal:</td><td>JOURNAL OF BANKING & FINANCE</td></tr><tr><td>ISSN:</td><td>0378-4266</td></tr><tr></tr></table>', 'cluster': 5, 'weight<links>': 51, 'weight<total_link_strength>': 169, 'weight<citations>': 191, 'score<journal_impact_factor>': 0.753, 'size': 16.509481, 'r': 0, 'g': 0, 'b': 0, 'x': 554.9299, 'y': 390.52963}, '42': {'label': 'j account econ', 'description': '<table><tr><td>Journal:</td><td>JOURNAL OF ACCOUNTING & ECONOMICS</td></tr><tr><td>ISSN:</td><td>0165-4101</td></tr><tr></tr></table>', 'cluster': 5, 'weight<links>': 31, 'weight<total_link_strength>': 204, 'weight<citations>': 187, 'score<journal_impact_factor>': 3.034, 'size': 9.6980505, 'r': 0, 'g': 0, 'b': 0, 'x': 816.9394, 'y': 470.69333}, '43': {'label': 'inform manage-amster', 'description': '<table><tr><td>Journal:</td><td>INFORMATION & MANAGEMENT</td></tr><tr><td>ISSN:</td><td>0378-7206</td></tr><tr></tr></table>', 'cluster': 4, 'weight<links>': 46, 'weight<total_link_strength>': 152, 'weight<citations>': 185, 'score<journal_impact_factor>': 1.631, 'size': 14.621111, 'r': 0, 'g': 0, 'b': 0, 'x': -373.7062, 'y': 633.16846}, '44': {'label': 'math program', 'description': '<table><tr><td>Journal:</td><td>MATHEMATICAL PROGRAMMING</td></tr><tr><td>ISSN:</td><td>0025-5610</td></tr><tr></tr></table>', 'cluster': 3, 'weight<links>': 13, 'weight<total_link_strength>': 38, 'weight<citations>': 184, 'score<journal_impact_factor>': 1.475, 'size': 4.752323, 'r': 0, 'g': 0, 'b': 0, 'x': -481.37894, 'y': 364.14948}, '45': {'label': 'j marketing res', 'description': '<table><tr><td>Journal:</td><td>JOURNAL OF MARKETING RESEARCH</td></tr><tr><td>ISSN:</td><td>0022-2437</td></tr><tr></tr></table>', 'cluster': 4, 'weight<links>': 60, 'weight<total_link_strength>': 206, 'weight<citations>': 184, 'score<journal_impact_factor>': 1.739, 'size': 16.990261, 'r': 0, 'g': 0, 'b': 0, 'x': -483.43784, 'y': 714.8445}, '46': {'label': 'appl econ', 'description': '<table><tr><td>Journal:</td><td>APPLIED ECONOMICS</td></tr><tr><td>ISSN:</td><td>0003-6846</td></tr><tr></tr></table>', 'cluster': 1, 'weight<links>': 48, 'weight<total_link_strength>': 92, 'weight<citations>': 182, 'score<journal_impact_factor>': 0.473, 'size': 15.088079, 'r': 0, 'g': 0, 'b': 0, 'x': 68.124, 'y': 453.88934}, '47': {'label': 'rev financ stud', 'description': '<table><tr><td>Journal:</td><td>REVIEW OF FINANCIAL STUDIES</td></tr><tr><td>ISSN:</td><td>0893-9454</td></tr><tr></tr></table>', 'cluster': 5, 'weight<links>': 47, 'weight<total_link_strength>': 168, 'weight<citations>': 181, 'score<journal_impact_factor>': 2.16, 'size': 12.33575, 'r': 0, 'g': 0, 'b': 0, 'x': 595.1934, 'y': 407.4433}, '48': {'label': 'oper res', 'description': '<table><tr><td>Journal:</td><td>OPERATIONS RESEARCH</td></tr><tr><td>ISSN:</td><td>0030-364X</td></tr><tr></tr></table>', 'cluster': 3, 'weight<links>': 36, 'weight<total_link_strength>': 90, 'weight<citations>': 180, 'score<journal_impact_factor>': 1.467, 'size': 9.6980505, 'r': 0, 'g': 0, 'b': 0, 'x': -576.36255, 'y': 403.7126}, '49': {'label': 'econ lett', 'description': '<table><tr><td>Journal:</td><td>ECONOMICS LETTERS</td></tr><tr><td>ISSN:</td><td>0165-1765</td></tr><tr></tr></table>', 'cluster': 1, 'weight<links>': 59, 'weight<total_link_strength>': 121, 'weight<citations>': 179, 'score<journal_impact_factor>': 0.302, 'size': 18.949646, 'r': 0, 'g': 0, 'b': 0, 'x': 482.0905, 'y': 671.2174}, '50': {'label': 'j organ behav', 'description': '<table><tr><td>Journal:</td><td>JOURNAL OF ORGANIZATIONAL BEHAVIOR</td></tr><tr><td>ISSN:</td><td>0894-3796</td></tr><tr></tr></table>', 'cluster': 2, 'weight<links>': 45, 'weight<total_link_strength>': 125, 'weight<citations>': 179, 'score<journal_impact_factor>': 1.981, 'size': 14.157493, 'r': 0, 'g': 0, 'b': 0, 'x': -11.369825, 'y': 1197.1031}, '51': {'label': 'game econ behav', 'description': '<table><tr><td>Journal:</td><td>GAMES AND ECONOMIC BEHAVIOR</td></tr><tr><td>ISSN:</td><td>0899-8256</td></tr><tr></tr></table>', 'cluster': 1, 'weight<links>': 37, 'weight<total_link_strength>': 82, 'weight<citations>': 171, 'score<journal_impact_factor>': 1.468, 'size': 8.843412, 'r': 0, 'g': 0, 'b': 0, 'x': 533.80804, 'y': 724.66254}, '52': {'label': 'j bus ethics', 'description': '<table><tr><td>Journal:</td><td>JOURNAL OF BUSINESS ETHICS</td></tr><tr><td>ISSN:</td><td>0167-4544</td></tr><tr></tr></table>', 'cluster': 2, 'weight<links>': 53, 'weight<total_link_strength>': 130, 'weight<citations>': 170, 'score<journal_impact_factor>': 0.538, 'size': 15.5584345, 'r': 0, 'g': 0, 'b': 0, 'x': -246.32727, 'y': 1088.3787}, '53': {'label': 'technovation', 'description': '<table><tr><td>Journal:</td><td>TECHNOVATION</td></tr><tr><td>ISSN:</td><td>0166-4972</td></tr><tr></tr></table>', 'cluster': 2, 'weight<links>': 46, 'weight<total_link_strength>': 125, 'weight<citations>': 169, 'score<journal_impact_factor>': 1.004, 'size': 11.002932, 'r': 0, 'g': 0, 'b': 0, 'x': -64.35042, 'y': 972.78235}, '54': {'label': 'j environ econ manag', 'description': '<table><tr><td>Journal:</td><td>JOURNAL OF ENVIRONMENTAL ECONOMICS AND MANAGEMENT</td></tr><tr><td>ISSN:</td><td>0095-0696</td></tr><tr></tr></table>', 'cluster': 1, 'weight<links>': 45, 'weight<total_link_strength>': 108, 'weight<citations>': 168, 'score<journal_impact_factor>': 1.438, 'size': 11.888337, 'r': 0, 'g': 0, 'b': 0, 'x': -186.94139, 'y': -53.629295}, '55': {'label': 'j bus', 'description': '<table><tr><td>Journal:</td><td>JOURNAL OF BUSINESS</td></tr><tr><td>ISSN:</td><td>0021-9398</td></tr><tr></tr></table>', 'cluster': 5, 'weight<links>': 58, 'weight<total_link_strength>': 189, 'weight<citations>': 165, 'score<journal_impact_factor>': 1.133, 'size': 16.03222, 'r': 0, 'g': 0, 'b': 0, 'x': 582.46423, 'y': 534.48724}, '56': {'label': 'reliab eng syst safe', 'description': '<table><tr><td>Journal:</td><td>RELIABILITY ENGINEERING & SYSTEM SAFETY</td></tr><tr><td>ISSN:</td><td>0951-8320</td></tr><tr></tr></table>', 'cluster': 3, 'weight<links>': 17, 'weight<total_link_strength>': 40, 'weight<citations>': 164, 'score<journal_impact_factor>': 1.004, 'size': 3.5859692, 'r': 0, 'g': 0, 'b': 0, 'x': -660.77765, 'y': 321.29276}, '57': {'label': 'j oper res soc', 'description': '<table><tr><td>Journal:</td><td>JOURNAL OF THE OPERATIONAL RESEARCH SOCIETY</td></tr><tr><td>ISSN:</td><td>0160-5682</td></tr><tr></tr></table>', 'cluster': 3, 'weight<links>': 26, 'weight<total_link_strength>': 81, 'weight<citations>': 161, 'score<journal_impact_factor>': 0.784, 'size': 5.947521, 'r': 0, 'g': 0, 'b': 0, 'x': -395.4169, 'y': 382.6493}, '58': {'label': 'j econ lit', 'description': '<table><tr><td>Journal:</td><td>JOURNAL OF ECONOMIC LITERATURE</td></tr><tr><td>ISSN:</td><td>0022-0515</td></tr><tr></tr></table>', 'cluster': 1, 'weight<links>': 48, 'weight<total_link_strength>': 140, 'weight<citations>': 158, 'score<journal_impact_factor>': 3.973, 'size': 10.564896, 'r': 0, 'g': 0, 'b': 0, 'x': 436.82407, 'y': 619.8479}, '59': {'label': 'am j agr econ', 'description': '<table><tr><td>Journal:</td><td>AMERICAN JOURNAL OF AGRICULTURAL ECONOMICS</td></tr><tr><td>ISSN:</td><td>0002-9092</td></tr><tr></tr></table>', 'cluster': 1, 'weight<links>': 35, 'weight<total_link_strength>': 78, 'weight<citations>': 153, 'score<journal_impact_factor>': 1.034, 'size': 8.420638, 'r': 0, 'g': 0, 'b': 0, 'x': -104.70404, 'y': 159.642}, '60': {'label': 'j manage', 'description': '<table><tr><td>Journal:</td><td>JOURNAL OF MANAGEMENT</td></tr><tr><td>ISSN:</td><td>0149-2063</td></tr><tr></tr></table>', 'cluster': 2, 'weight<links>': 62, 'weight<total_link_strength>': 197, 'weight<citations>': 153, 'size': 18.454252, 'r': 0, 'g': 0, 'b': 0, 'x': -160.60295, 'y': 1020.48145}, '61': {'label': 'j int bus stud', 'description': '<table><tr><td>Journal:</td><td>JOURNAL OF INTERNATIONAL BUSINESS STUDIES</td></tr><tr><td>ISSN:</td><td>0047-2506</td></tr><tr></tr></table>', 'cluster': 2, 'weight<links>': 53, 'weight<total_link_strength>': 220, 'weight<citations>': 151, 'score<journal_impact_factor>': 2.283, 'size': 14.621111, 'r': 0, 'g': 0, 'b': 0, 'x': -284.9735, 'y': 948.6251}, '62': {'label': 'account rev', 'description': '<table><tr><td>Journal:</td><td>ACCOUNTING REVIEW</td></tr><tr><td>ISSN:</td><td>0001-4826</td></tr><tr></tr></table>', 'cluster': 5, 'weight<links>': 34, 'weight<total_link_strength>': 182, 'weight<citations>': 150, 'score<journal_impact_factor>': 1.733, 'size': 7.5841556, 'r': 0, 'g': 0, 'b': 0, 'x': 695.2619, 'y': 313.06696}, '63': {'label': 'transport res b-meth', 'description': '<table><tr><td>Journal:</td><td>TRANSPORTATION RESEARCH PART B-METHODOLOGICAL</td></tr><tr><td>ISSN:</td><td>0191-2615</td></tr><tr></tr></table>', 'cluster': 3, 'weight<links>': 18, 'weight<total_link_strength>': 38, 'weight<citations>': 148, 'score<journal_impact_factor>': 1.948, 'size': 4.3602505, 'r': 0, 'g': 0, 'b': 0, 'x': -477.8622, 'y': 303.98367}, '64': {'label': 'j global optim', 'description': '<table><tr><td>Journal:</td><td>JOURNAL OF GLOBAL OPTIMIZATION</td></tr><tr><td>ISSN:</td><td>0925-5001</td></tr><tr></tr></table>', 'cluster': 3, 'weight<links>': 9, 'weight<total_link_strength>': 43, 'weight<citations>': 148, 'score<journal_impact_factor>': 0.813, 'size': 2.8255234, 'r': 0, 'g': 0, 'b': 0, 'x': -497.3904, 'y': 341.0782}, '65': {'label': 'rev account stud', 'description': '<table><tr><td>Journal:</td><td>REVIEW OF ACCOUNTING STUDIES</td></tr><tr><td>ISSN:</td><td>1380-6653</td></tr><tr></tr></table>', 'cluster': 5, 'weight<links>': 14, 'weight<total_link_strength>': 73, 'weight<citations>': 146, 'score<journal_impact_factor>': 2.176, 'size': 3.2039497, 'r': 0, 'g': 0, 'b': 0, 'x': 742.5719, 'y': 396.65778}, '66': {'label': 'j econ theory', 'description': '<table><tr><td>Journal:</td><td>JOURNAL OF ECONOMIC THEORY</td></tr><tr><td>ISSN:</td><td>0022-0531</td></tr><tr></tr></table>', 'cluster': 1, 'weight<links>': 37, 'weight<total_link_strength>': 103, 'weight<citations>': 142, 'score<journal_impact_factor>': 1.353, 'size': 7.1704454, 'r': 0, 'g': 0, 'b': 0, 'x': 358.18417, 'y': 448.8767}, '67': {'label': 'j policy anal manag', 'description': '<table><tr><td>Journal:</td><td>JOURNAL OF POLICY ANALYSIS AND MANAGEMENT</td></tr><tr><td>ISSN:</td><td>0276-8739</td></tr><tr></tr></table>', 'cluster': 1, 'weight<links>': 19, 'weight<total_link_strength>': 37, 'weight<citations>': 139, 'score<journal_impact_factor>': 1.8, 'size': 4.3602505, 'r': 0, 'g': 0, 'b': 0, 'x': 435.20465, 'y': 657.7784}, '68': {'label': 'acad manag learn edu', 'description': '<table><tr><td>Journal:</td><td>ACADEMY OF MANAGEMENT LEARNING & EDUCATION</td></tr><tr><td>ISSN:</td><td>1537-260X</td></tr><tr></tr></table>', 'cluster': 2, 'weight<links>': 44, 'weight<total_link_strength>': 156, 'weight<citations>': 135, 'score<journal_impact_factor>': 2.796, 'size': 10.129941, 'r': 0, 'g': 0, 'b': 0, 'x': -61.833424, 'y': 1211.7712}, '69': {'label': 'organ behav hum dec', 'description': '<table><tr><td>Journal:</td><td>ORGANIZATIONAL BEHAVIOR AND HUMAN DECISION PROCESSES</td></tr><tr><td>ISSN:</td><td>0749-5978</td></tr><tr></tr></table>', 'cluster': 4, 'weight<links>': 43, 'weight<total_link_strength>': 115, 'weight<citations>': 134, 'score<journal_impact_factor>': 1.847, 'size': 6.759763, 'r': 0, 'g': 0, 'b': 0, 'x': -46.649734, 'y': 985.2831}, '70': {'label': 'j econ behav organ', 'description': '<table><tr><td>Journal:</td><td>JOURNAL OF ECONOMIC BEHAVIOR & ORGANIZATION</td></tr><tr><td>ISSN:</td><td>0167-2681</td></tr><tr></tr></table>', 'cluster': 1, 'weight<links>': 49, 'weight<total_link_strength>': 87, 'weight<citations>': 133, 'score<journal_impact_factor>': 0.772, 'size': 11.44407, 'r': 0, 'g': 0, 'b': 0, 'x': 399.16284, 'y': 625.294}, '71': {'label': 'omega-int j manage s', 'description': '<table><tr><td>Journal:</td><td>OMEGA-INTERNATIONAL JOURNAL OF MANAGEMENT SCIENCE</td></tr><tr><td>ISSN:</td><td>0305-0483</td></tr><tr></tr></table>', 'cluster': 3, 'weight<links>': 37, 'weight<total_link_strength>': 124, 'weight<citations>': 131, 'score<journal_impact_factor>': 1.327, 'size': 7.5841556, 'r': 0, 'g': 0, 'b': 0, 'x': -342.4276, 'y': 230.09167}, '72': {'label': 'tourism manage', 'description': '<table><tr><td>Journal:</td><td>TOURISM MANAGEMENT</td></tr><tr><td>ISSN:</td><td>0261-5177</td></tr><tr></tr></table>', 'cluster': 4, 'weight<links>': 20, 'weight<total_link_strength>': 27, 'weight<citations>': 131, 'score<journal_impact_factor>': 0.89, 'size': 5.947521, 'r': 0, 'g': 0, 'b': 0, 'x': -283.47406, 'y': 835.36615}, '73': {'label': 'rand j econ', 'description': '<table><tr><td>Journal:</td><td>RAND JOURNAL OF ECONOMICS</td></tr><tr><td>ISSN:</td><td>0741-6261</td></tr><tr></tr></table>', 'cluster': 1, 'weight<links>': 44, 'weight<total_link_strength>': 90, 'weight<citations>': 130, 'score<journal_impact_factor>': 1.44, 'size': 7.1704454, 'r': 0, 'g': 0, 'b': 0, 'x': 321.4184, 'y': 561.3033}, '74': {'label': 'environ resour econ', 'description': '<table><tr><td>Journal:</td><td>ENVIRONMENTAL & RESOURCE ECONOMICS</td></tr><tr><td>ISSN:</td><td>0924-6460</td></tr><tr></tr></table>', 'cluster': 1, 'weight<links>': 39, 'weight<total_link_strength>': 99, 'weight<citations>': 129, 'score<journal_impact_factor>': 1.237, 'size': 8.000887, 'r': 0, 'g': 0, 'b': 0, 'x': -138.92264, 'y': 56.829712}, '75': {'label': 'econ theor', 'description': '<table><tr><td>Journal:</td><td>ECONOMIC THEORY</td></tr><tr><td>ISSN:</td><td>0938-2259</td></tr><tr></tr></table>', 'cluster': 1, 'weight<links>': 28, 'weight<total_link_strength>': 34, 'weight<citations>': 127, 'score<journal_impact_factor>': 0.602, 'size': 5.147591, 'r': 0, 'g': 0, 'b': 0, 'x': 583.7614, 'y': 691.4817}, '76': {'label': 'oper res lett', 'description': '<table><tr><td>Journal:</td><td>OPERATIONS RESEARCH LETTERS</td></tr><tr><td>ISSN:</td><td>0167-6377</td></tr><tr></tr></table>', 'cluster': 3, 'weight<links>': 15, 'weight<total_link_strength>': 57, 'weight<citations>': 124, 'score<journal_impact_factor>': 0.517, 'size': 3.2039497, 'r': 0, 'g': 0, 'b': 0, 'x': -539.08307, 'y': 365.45654}, '77': {'label': 'j bus venturing', 'description': '<table><tr><td>Journal:</td><td>JOURNAL OF BUSINESS VENTURING</td></tr><tr><td>ISSN:</td><td>0883-9026</td></tr><tr></tr></table>', 'cluster': 2, 'weight<links>': 50, 'weight<total_link_strength>': 203, 'weight<citations>': 124, 'score<journal_impact_factor>': 1.875, 'size': 11.002932, 'r': 0, 'g': 0, 'b': 0, 'x': -93.22929, 'y': 980.9775}, '78': {'label': 'int j forecasting', 'description': '<table><tr><td>Journal:</td><td>INTERNATIONAL JOURNAL OF FORECASTING</td></tr><tr><td>ISSN:</td><td>0169-2070</td></tr><tr></tr></table>', 'cluster': 1, 'weight<links>': 41, 'weight<total_link_strength>': 72, 'weight<citations>': 123, 'score<journal_impact_factor>': 1.409, 'size': 8.420638, 'r': 0, 'g': 0, 'b': 0, 'x': -564.0593, 'y': 202.83507}, '79': {'label': 'j appl economet', 'description': '<table><tr><td>Journal:</td><td>JOURNAL OF APPLIED ECONOMETRICS</td></tr><tr><td>ISSN:</td><td>0883-7252</td></tr><tr></tr></table>', 'cluster': 1, 'weight<links>': 33, 'weight<total_link_strength>': 92, 'weight<citations>': 123, 'score<journal_impact_factor>': 1.094, 'size': 6.759763, 'r': 0, 'g': 0, 'b': 0, 'x': 389.99396, 'y': 637.634}, '80': {'label': 'j money credit bank', 'description': '<table><tr><td>Journal:</td><td>JOURNAL OF MONEY CREDIT AND BANKING</td></tr><tr><td>ISSN:</td><td>0022-2879</td></tr><tr></tr></table>', 'cluster': 1, 'weight<links>': 58, 'weight<total_link_strength>': 162, 'weight<citations>': 122, 'score<journal_impact_factor>': 0.947, 'size': 14.157493, 'r': 0, 'g': 0, 'b': 0, 'x': 423.8286, 'y': 645.6226}, '81': {'label': 'ann oper res', 'description': '<table><tr><td>Journal:</td><td>ANNALS OF OPERATIONS RESEARCH</td></tr><tr><td>ISSN:</td><td>0254-5330</td></tr><tr></tr></table>', 'cluster': 3, 'weight<links>': 31, 'weight<total_link_strength>': 62, 'weight<citations>': 122, 'score<journal_impact_factor>': 0.544, 'size': 5.546004, 'r': 0, 'g': 0, 'b': 0, 'x': -589.1257, 'y': 416.9427}, '82': {'label': 'entrep theory pract', 'description': '<table><tr><td>Journal:</td><td>ENTREPRENEURSHIP THEORY AND PRACTICE</td></tr><tr><td>ISSN:</td><td>1042-2587</td></tr><tr></tr></table>', 'cluster': 2, 'weight<links>': 46, 'weight<total_link_strength>': 163, 'weight<citations>': 119, 'score<journal_impact_factor>': 1.805, 'size': 10.564896, 'r': 0, 'g': 0, 'b': 0, 'x': -118.829796, 'y': 998.2073}, '83': {'label': 'iie trans', 'description': '<table><tr><td>Journal:</td><td>IIE TRANSACTIONS</td></tr><tr><td>ISSN:</td><td>0740-817X</td></tr><tr></tr></table>', 'cluster': 3, 'weight<links>': 36, 'weight<total_link_strength>': 103, 'weight<citations>': 119, 'score<journal_impact_factor>': 0.797, 'size': 6.759763, 'r': 0, 'g': 0, 'b': 0, 'x': -397.12387, 'y': 449.12814}, '84': {'label': 'j dev econ', 'description': '<table><tr><td>Journal:</td><td>JOURNAL OF DEVELOPMENT ECONOMICS</td></tr><tr><td>ISSN:</td><td>0304-3878</td></tr><tr></tr></table>', 'cluster': 1, 'weight<links>': 44, 'weight<total_link_strength>': 93, 'weight<citations>': 118, 'score<journal_impact_factor>': 0.912, 'size': 8.000887, 'r': 0, 'g': 0, 'b': 0, 'x': 544.5551, 'y': 578.5772}, '85': {'label': 'j urban econ', 'description': '<table><tr><td>Journal:</td><td>JOURNAL OF URBAN ECONOMICS</td></tr><tr><td>ISSN:</td><td>0094-1190</td></tr><tr></tr></table>', 'cluster': 1, 'weight<links>': 33, 'weight<total_link_strength>': 67, 'weight<citations>': 117, 'score<journal_impact_factor>': 0.942, 'size': 6.3521147, 'r': 0, 'g': 0, 'b': 0, 'x': 343.4842, 'y': 561.3733}, '86': {'label': 'j manage inform syst', 'description': '<table><tr><td>Journal:</td><td>JOURNAL OF MANAGEMENT INFORMATION SYSTEMS</td></tr><tr><td>ISSN:</td><td>0742-1222</td></tr><tr></tr></table>', 'cluster': 4, 'weight<links>': 29, 'weight<total_link_strength>': 144, 'weight<citations>': 117, 'score<journal_impact_factor>': 1.867, 'size': 5.546004, 'r': 0, 'g': 0, 'b': 0, 'x': -486.40744, 'y': 564.14}, '87': {'label': 'j eur econ assoc', 'description': '<table><tr><td>Journal:</td><td>JOURNAL OF THE EUROPEAN ECONOMIC ASSOCIATION</td></tr><tr><td>ISSN:</td><td>1542-4766</td></tr><tr></tr></table>', 'cluster': 1, 'weight<links>': 48, 'weight<total_link_strength>': 127, 'weight<citations>': 117, 'score<journal_impact_factor>': 0.871, 'size': 9.269212, 'r': 0, 'g': 0, 'b': 0, 'x': 440.84833, 'y': 593.2157}, '88': {'label': 'energ econ', 'description': '<table><tr><td>Journal:</td><td>ENERGY ECONOMICS</td></tr><tr><td>ISSN:</td><td>0140-9883</td></tr><tr></tr></table>', 'cluster': 1, 'weight<links>': 30, 'weight<total_link_strength>': 54, 'weight<citations>': 115, 'score<journal_impact_factor>': 1.557, 'size': 6.759763, 'r': 0, 'g': 0, 'b': 0, 'x': 192.4235, 'y': 392.96393}, '89': {'label': 'j hum resour', 'description': '<table><tr><td>Journal:</td><td>JOURNAL OF HUMAN RESOURCES</td></tr><tr><td>ISSN:</td><td>0022-166X</td></tr><tr></tr></table>', 'cluster': 1, 'weight<links>': 33, 'weight<total_link_strength>': 75, 'weight<citations>': 112, 'score<journal_impact_factor>': 1.162, 'size': 4.752323, 'r': 0, 'g': 0, 'b': 0, 'x': 488.11426, 'y': 627.4358}, '90': {'label': 'j econ dyn control', 'description': '<table><tr><td>Journal:</td><td>JOURNAL OF ECONOMIC DYNAMICS & CONTROL</td></tr><tr><td>ISSN:</td><td>0165-1889</td></tr><tr></tr></table>', 'cluster': 1, 'weight<links>': 36, 'weight<total_link_strength>': 81, 'weight<citations>': 111, 'score<journal_impact_factor>': 0.703, 'size': 6.759763, 'r': 0, 'g': 0, 'b': 0, 'x': 343.27713, 'y': 538.1034}, '91': {'label': 'admin sci quart', 'description': '<table><tr><td>Journal:</td><td>ADMINISTRATIVE SCIENCE QUARTERLY</td></tr><tr><td>ISSN:</td><td>0001-8392</td></tr><tr></tr></table>', 'cluster': 2, 'weight<links>': 45, 'weight<total_link_strength>': 154, 'weight<citations>': 111, 'score<journal_impact_factor>': 2.912, 'size': 9.6980505, 'r': 0, 'g': 0, 'b': 0, 'x': 115.2061, 'y': 1055.7561}, '92': {'label': 'j econ geogr', 'description': '<table><tr><td>Journal:</td><td>JOURNAL OF ECONOMIC GEOGRAPHY</td></tr><tr><td>ISSN:</td><td>1468-2702</td></tr><tr></tr></table>', 'cluster': 1, 'weight<links>': 34, 'weight<total_link_strength>': 58, 'weight<citations>': 106, 'score<journal_impact_factor>': 2.679, 'size': 8.420638, 'r': 0, 'g': 0, 'b': 0, 'x': 434.63782, 'y': 894.70557}, '93': {'label': 'economet theor', 'description': '<table><tr><td>Journal:</td><td>ECONOMETRIC THEORY</td></tr><tr><td>ISSN:</td><td>0266-4666</td></tr><tr></tr></table>', 'cluster': 1, 'weight<links>': 16, 'weight<total_link_strength>': 50, 'weight<citations>': 106, 'score<journal_impact_factor>': 0.748, 'size': 3.5859692, 'r': 0, 'g': 0, 'b': 0, 'x': 284.18124, 'y': 459.4144}, '94': {'label': 'leadership quart', 'description': '<table><tr><td>Journal:</td><td>LEADERSHIP QUARTERLY</td></tr><tr><td>ISSN:</td><td>1048-9843</td></tr><tr></tr></table>', 'cluster': 2, 'weight<links>': 31, 'weight<total_link_strength>': 81, 'weight<citations>': 104, 'score<journal_impact_factor>': 1.763, 'size': 7.1704454, 'r': 0, 'g': 0, 'b': 0, 'x': 16.429338, 'y': 1119.4922}, '95': {'label': 'ind market manag', 'description': '<table><tr><td>Journal:</td><td>INDUSTRIAL MARKETING MANAGEMENT</td></tr><tr><td>ISSN:</td><td>0019-8501</td></tr><tr></tr></table>', 'cluster': 4, 'weight<links>': 47, 'weight<total_link_strength>': 127, 'weight<citations>': 103, 'score<journal_impact_factor>': 0.911, 'size': 11.002932, 'r': 0, 'g': 0, 'b': 0, 'x': -404.7135, 'y': 792.9369}, '96': {'label': 'hum relat', 'description': '<table><tr><td>Journal:</td><td>HUMAN RELATIONS</td></tr><tr><td>ISSN:</td><td>0018-7267</td></tr><tr></tr></table>', 'cluster': 2, 'weight<links>': 28, 'weight<total_link_strength>': 81, 'weight<citations>': 103, 'score<journal_impact_factor>': 1.103, 'size': 4.752323, 'r': 0, 'g': 0, 'b': 0, 'x': 155.15965, 'y': 954.47943}, '97': {'label': 'j oper manag', 'description': '<table><tr><td>Journal:</td><td>JOURNAL OF OPERATIONS MANAGEMENT</td></tr><tr><td>ISSN:</td><td>0272-6963</td></tr><tr></tr></table>', 'cluster': 3, 'weight<links>': 43, 'weight<total_link_strength>': 141, 'weight<citations>': 102, 'score<journal_impact_factor>': 1.851, 'size': 7.1704454, 'r': 0, 'g': 0, 'b': 0, 'x': -495.1132, 'y': 180.82272}, '98': {'label': 'int j hum resour man', 'description': '<table><tr><td>Journal:</td><td>INTERNATIONAL JOURNAL OF HUMAN RESOURCE MANAGEMENT</td></tr><tr><td>ISSN:</td><td>0958-5192</td></tr><tr></tr></table>', 'cluster': 2, 'weight<links>': 38, 'weight<total_link_strength>': 79, 'weight<citations>': 101, 'score<journal_impact_factor>': 0.546, 'size': 7.1704454, 'r': 0, 'g': 0, 'b': 0, 'x': 34.99534, 'y': 911.5101}, '99': {'label': 'organization', 'description': '<table><tr><td>Journal:</td><td>ORGANIZATION</td></tr><tr><td>ISSN:</td><td>1350-5084</td></tr><tr></tr></table>', 'cluster': 2, 'weight<links>': 25, 'weight<total_link_strength>': 65, 'weight<citations>': 100, 'score<journal_impact_factor>': 1.169, 'size': 4.3602505, 'r': 0, 'g': 0, 'b': 0, 'x': -111.47693, 'y': 946.30646}, '100': {'label': 'j financ quant anal', 'description': '<table><tr><td>Journal:</td><td>JOURNAL OF FINANCIAL AND QUANTITATIVE ANALYSIS</td></tr><tr><td>ISSN:</td><td>0022-1090</td></tr><tr></tr></table>', 'cluster': 5, 'weight<links>': 38, 'weight<total_link_strength>': 123, 'weight<citations>': 98, 'score<journal_impact_factor>': 1.342, 'size': 8.420638, 'r': 0, 'g': 0, 'b': 0, 'x': 662.38293, 'y': 644.8932}, '101': {'label': 'psychol market', 'description': '<table><tr><td>Journal:</td><td>PSYCHOLOGY & MARKETING</td></tr><tr><td>ISSN:</td><td>0742-6046</td></tr><tr></tr></table>', 'cluster': 4, 'weight<links>': 29, 'weight<total_link_strength>': 64, 'weight<citations>': 97, 'score<journal_impact_factor>': 0.919, 'size': 5.147591, 'r': 0, 'g': 0, 'b': 0, 'x': -513.3095, 'y': 755.6388}, '102': {'label': 'j int money financ', 'description': '<table><tr><td>Journal:</td><td>JOURNAL OF INTERNATIONAL MONEY AND FINANCE</td></tr><tr><td>ISSN:</td><td>0261-5606</td></tr><tr></tr></table>', 'cluster': 1, 'weight<links>': 36, 'weight<total_link_strength>': 85, 'weight<citations>': 97, 'score<journal_impact_factor>': 0.709, 'size': 4.3602505, 'r': 0, 'g': 0, 'b': 0, 'x': 547.9088, 'y': 522.5513}, '103': {'label': 'transport sci', 'description': '<table><tr><td>Journal:</td><td>TRANSPORTATION SCIENCE</td></tr><tr><td>ISSN:</td><td>0041-1655</td></tr><tr></tr></table>', 'cluster': 3, 'weight<links>': 20, 'weight<total_link_strength>': 61, 'weight<citations>': 96, 'score<journal_impact_factor>': 1.427, 'size': 3.5859692, 'r': 0, 'g': 0, 'b': 0, 'x': -379.29425, 'y': 417.66852}, '104': {'label': 'int j oper prod man', 'description': '<table><tr><td>Journal:</td><td>INTERNATIONAL JOURNAL OF OPERATIONS & PRODUCTION MANAGEMENT</td></tr><tr><td>ISSN:</td><td>0144-3577</td></tr><tr></tr></table>', 'cluster': 3, 'weight<links>': 41, 'weight<total_link_strength>': 133, 'weight<citations>': 95, 'score<journal_impact_factor>': 1.054, 'size': 7.5841556, 'r': 0, 'g': 0, 'b': 0, 'x': -483.88824, 'y': 191.72377}, '105': {'label': 'j account res', 'description': '<table><tr><td>Journal:</td><td>JOURNAL OF ACCOUNTING RESEARCH</td></tr><tr><td>ISSN:</td><td>0021-8456</td></tr><tr></tr></table>', 'cluster': 5, 'weight<links>': 25, 'weight<total_link_strength>': 142, 'weight<citations>': 94, 'score<journal_impact_factor>': 2.115, 'size': 4.752323, 'r': 0, 'g': 0, 'b': 0, 'x': 635.29236, 'y': 484.00543}, '106': {'label': 'int econ rev', 'description': '<table><tr><td>Journal:</td><td>INTERNATIONAL ECONOMIC REVIEW</td></tr><tr><td>ISSN:</td><td>0020-6598</td></tr><tr></tr></table>', 'cluster': 1, 'weight<links>': 39, 'weight<total_link_strength>': 84, 'weight<citations>': 92, 'score<journal_impact_factor>': 0.917, 'size': 6.3521147, 'r': 0, 'g': 0, 'b': 0, 'x': 475.09277, 'y': 488.84506}, '107': {'label': 'j corp financ', 'description': '<table><tr><td>Journal:</td><td>JOURNAL OF CORPORATE FINANCE</td></tr><tr><td>ISSN:</td><td>0929-1199</td></tr><tr></tr></table>', 'cluster': 5, 'weight<links>': 30, 'weight<total_link_strength>': 102, 'weight<citations>': 92, 'score<journal_impact_factor>': 1.354, 'size': 4.3602505, 'r': 0, 'g': 0, 'b': 0, 'x': 554.1016, 'y': 505.12128}, '108': {'label': 'econ soc', 'description': '<table><tr><td>Journal:</td><td>ECONOMY AND SOCIETY</td></tr><tr><td>ISSN:</td><td>0308-5147</td></tr><tr></tr></table>', 'cluster': 1, 'weight<links>': 13, 'weight<total_link_strength>': 37, 'weight<citations>': 91, 'score<journal_impact_factor>': 1.678, 'size': 3.5859692, 'r': 0, 'g': 0, 'b': 0, 'x': 261.3958, 'y': 922.1716}, '109': {'label': 'inform syst res', 'description': '<table><tr><td>Journal:</td><td>INFORMATION SYSTEMS RESEARCH</td></tr><tr><td>ISSN:</td><td>1047-7047</td></tr><tr></tr></table>', 'cluster': 4, 'weight<links>': 33, 'weight<total_link_strength>': 107, 'weight<citations>': 91, 'score<journal_impact_factor>': 2.682, 'size': 4.752323, 'r': 0, 'g': 0, 'b': 0, 'x': -526.1187, 'y': 635.2184}, '110': {'label': 'j labor econ', 'description': '<table><tr><td>Journal:</td><td>JOURNAL OF LABOR ECONOMICS</td></tr><tr><td>ISSN:</td><td>0734-306X</td></tr><tr></tr></table>', 'cluster': 1, 'weight<links>': 32, 'weight<total_link_strength>': 52, 'weight<citations>': 90, 'score<journal_impact_factor>': 1.473, 'size': 4.3602505, 'r': 0, 'g': 0, 'b': 0, 'x': 343.58807, 'y': 562.2818}, '111': {'label': 'world econ', 'description': '<table><tr><td>Journal:</td><td>WORLD ECONOMY</td></tr><tr><td>ISSN:</td><td>0378-5920</td></tr><tr></tr></table>', 'cluster': 1, 'weight<links>': 20, 'weight<total_link_strength>': 31, 'weight<citations>': 90, 'score<journal_impact_factor>': 0.715, 'size': 5.147591, 'r': 0, 'g': 0, 'b': 0, 'x': 464.66376, 'y': 642.6034}, '112': {'label': 'appl econ lett', 'description': '<table><tr><td>Journal:</td><td>APPLIED ECONOMICS LETTERS</td></tr><tr><td>ISSN:</td><td>1350-4851</td></tr><tr></tr></table>', 'cluster': 1, 'weight<links>': 28, 'weight<total_link_strength>': 47, 'weight<citations>': 88, 'score<journal_impact_factor>': 0.294, 'size': 5.546004, 'r': 0, 'g': 0, 'b': 0, 'x': 247.71738, 'y': 476.77188}, '113': {'label': 'rev int polit econ', 'description': '<table><tr><td>Journal:</td><td>REVIEW OF INTERNATIONAL POLITICAL ECONOMY</td></tr><tr><td>ISSN:</td><td>0969-2290</td></tr><tr></tr></table>', 'cluster': 1, 'weight<links>': 24, 'weight<total_link_strength>': 57, 'weight<citations>': 88, 'size': 3.2039497, 'r': 0, 'g': 0, 'b': 0, 'x': 273.88763, 'y': 835.66284}, '114': {'label': 'can j econ', 'description': '<table><tr><td>Journal:</td><td>CANADIAN JOURNAL OF ECONOMICS-REVUE CANADIENNE D ECONOMIQUE</td></tr><tr><td>ISSN:</td><td>0008-4085</td></tr><tr></tr></table>', 'cluster': 1, 'weight<links>': 37, 'weight<total_link_strength>': 81, 'weight<citations>': 87, 'score<journal_impact_factor>': 0.54, 'size': 5.546004, 'r': 0, 'g': 0, 'b': 0, 'x': 514.8731, 'y': 595.6683}, '115': {'label': 'ind corp change', 'description': '<table><tr><td>Journal:</td><td>INDUSTRIAL AND CORPORATE CHANGE</td></tr><tr><td>ISSN:</td><td>0960-6491</td></tr><tr></tr></table>', 'cluster': 1, 'weight<links>': 72, 'weight<total_link_strength>': 132, 'weight<citations>': 85, 'score<journal_impact_factor>': 1.325, 'size': 15.088079, 'r': 0, 'g': 0, 'b': 0, 'x': 58.000988, 'y': 1029.203}, '116': {'label': 'prod oper manag', 'description': '<table><tr><td>Journal:</td><td>PRODUCTION AND OPERATIONS MANAGEMENT</td></tr><tr><td>ISSN:</td><td>1059-1478</td></tr><tr></tr></table>', 'cluster': 3, 'weight<links>': 40, 'weight<total_link_strength>': 94, 'weight<citations>': 85, 'score<journal_impact_factor>': 2.123, 'size': 5.546004, 'r': 0, 'g': 0, 'b': 0, 'x': -567.2852, 'y': 415.05695}, '117': {'label': 'brit j manage', 'description': '<table><tr><td>Journal:</td><td>BRITISH JOURNAL OF MANAGEMENT</td></tr><tr><td>ISSN:</td><td>1045-3172</td></tr><tr></tr></table>', 'cluster': 2, 'weight<links>': 50, 'weight<total_link_strength>': 102, 'weight<citations>': 84, 'score<journal_impact_factor>': 1.534, 'size': 10.564896, 'r': 0, 'g': 0, 'b': 0, 'x': -107.7129, 'y': 1145.0502}, '118': {'label': 'futures', 'description': '<table><tr><td>Journal:</td><td>FUTURES</td></tr><tr><td>ISSN:</td><td>0016-3287</td></tr><tr></tr></table>', 'cluster': 1, 'weight<links>': 16, 'weight<total_link_strength>': 19, 'weight<citations>': 82, 'score<journal_impact_factor>': 0.843, 'size': 2.450883, 'r': 0, 'g': 0, 'b': 0, 'x': -90.99806, 'y': 1072.6194}, '119': {'label': 'energ j', 'description': '<table><tr><td>Journal:</td><td>ENERGY JOURNAL</td></tr><tr><td>ISSN:</td><td>0195-6574</td></tr><tr></tr></table>', 'cluster': 1, 'weight<links>': 29, 'weight<total_link_strength>': 51, 'weight<citations>': 81, 'score<journal_impact_factor>': 1.575, 'size': 3.2039497, 'r': 0, 'g': 0, 'b': 0, 'x': 192.42346, 'y': 392.96393}, '120': {'label': 'j econ psychol', 'description': '<table><tr><td>Journal:</td><td>JOURNAL OF ECONOMIC PSYCHOLOGY</td></tr><tr><td>ISSN:</td><td>0167-4870</td></tr><tr></tr></table>', 'cluster': 4, 'weight<links>': 40, 'weight<total_link_strength>': 67, 'weight<citations>': 81, 'score<journal_impact_factor>': 0.9, 'size': 5.147591, 'r': 0, 'g': 0, 'b': 0, 'x': -325.2473, 'y': 944.369}, '121': {'label': 'acad manage exec', 'description': '<table><tr><td>Journal:</td><td>ACADEMY OF MANAGEMENT EXECUTIVE</td></tr><tr><td>ISSN:</td><td>0896-3789</td></tr><tr></tr></table>', 'cluster': 2, 'weight<links>': 45, 'weight<total_link_strength>': 101, 'weight<citations>': 81, 'score<journal_impact_factor>': 1.61, 'size': 5.947521, 'r': 0, 'g': 0, 'b': 0, 'x': -118.051895, 'y': 1043.4216}, '122': {'label': 'public choice', 'description': '<table><tr><td>Journal:</td><td>PUBLIC CHOICE</td></tr><tr><td>ISSN:</td><td>0048-5829</td></tr><tr></tr></table>', 'cluster': 1, 'weight<links>': 30, 'weight<total_link_strength>': 39, 'weight<citations>': 81, 'score<journal_impact_factor>': 0.527, 'size': 3.2039497, 'r': 0, 'g': 0, 'b': 0, 'x': 499.58087, 'y': 836.2552}, '123': {'label': 'oxford b econ stat', 'description': '<table><tr><td>Journal:</td><td>OXFORD BULLETIN OF ECONOMICS AND STATISTICS</td></tr><tr><td>ISSN:</td><td>0305-9049</td></tr><tr></tr></table>', 'cluster': 1, 'weight<links>': 32, 'weight<total_link_strength>': 65, 'weight<citations>': 79, 'score<journal_impact_factor>': 0.732, 'size': 5.947521, 'r': 0, 'g': 0, 'b': 0, 'x': 364.10254, 'y': 688.21985}, '124': {'label': 'j econ manage strat', 'description': '<table><tr><td>Journal:</td><td>JOURNAL OF ECONOMICS & MANAGEMENT STRATEGY</td></tr><tr><td>ISSN:</td><td>1058-6407</td></tr><tr></tr></table>', 'cluster': 1, 'weight<links>': 31, 'weight<total_link_strength>': 56, 'weight<citations>': 79, 'score<journal_impact_factor>': 0.875, 'size': 3.5859692, 'r': 0, 'g': 0, 'b': 0, 'x': 478.70425, 'y': 332.34634}, '125': {'label': 'j acad market sci', 'description': '<table><tr><td>Journal:</td><td>JOURNAL OF THE ACADEMY OF MARKETING SCIENCE</td></tr><tr><td>ISSN:</td><td>0092-0703</td></tr><tr></tr></table>', 'cluster': 4, 'weight<links>': 38, 'weight<total_link_strength>': 108, 'weight<citations>': 78, 'score<journal_impact_factor>': 1.18, 'size': 5.147591, 'r': 0, 'g': 0, 'b': 0, 'x': -469.7724, 'y': 1030.0629}, '126': {'label': 'j bus econ stat', 'description': '<table><tr><td>Journal:</td><td>JOURNAL OF BUSINESS & ECONOMIC STATISTICS</td></tr><tr><td>ISSN:</td><td>0735-0015</td></tr><tr></tr></table>', 'cluster': 1, 'weight<links>': 28, 'weight<total_link_strength>': 56, 'weight<citations>': 77, 'score<journal_impact_factor>': 1.129, 'size': 3.5859692, 'r': 0, 'g': 0, 'b': 0, 'x': 385.8283, 'y': 565.3637}, '127': {'label': 'mit sloan manage rev', 'description': '<table><tr><td>Journal:</td><td>MIT SLOAN MANAGEMENT REVIEW</td></tr><tr><td>ISSN:</td><td>1532-9194</td></tr><tr></tr></table>', 'cluster': 2, 'weight<links>': 43, 'weight<total_link_strength>': 86, 'weight<citations>': 76, 'score<journal_impact_factor>': 0.849, 'size': 4.3602505, 'r': 0, 'g': 0, 'b': 0, 'x': -487.37857, 'y': 903.8391}, '128': {'label': 'reg sci urban econ', 'description': '<table><tr><td>Journal:</td><td>REGIONAL SCIENCE AND URBAN ECONOMICS</td></tr><tr><td>ISSN:</td><td>0166-0462</td></tr><tr></tr></table>', 'cluster': 1, 'weight<links>': 33, 'weight<total_link_strength>': 47, 'weight<citations>': 76, 'score<journal_impact_factor>': 0.885, 'size': 2.8255234, 'r': 0, 'g': 0, 'b': 0, 'x': 317.5993, 'y': 700.33325}, '129': {'label': 'rev econ dynam', 'description': '<table><tr><td>Journal:</td><td>REVIEW OF ECONOMIC DYNAMICS</td></tr><tr><td>ISSN:</td><td>1094-2025</td></tr><tr></tr></table>', 'cluster': 1, 'weight<links>': 30, 'weight<total_link_strength>': 102, 'weight<citations>': 76, 'score<journal_impact_factor>': 0.972, 'size': 3.5859692, 'r': 0, 'g': 0, 'b': 0, 'x': 436.49368, 'y': 506.55292}, '130': {'label': 'j dev stud', 'description': '<table><tr><td>Journal:</td><td>JOURNAL OF DEVELOPMENT STUDIES</td></tr><tr><td>ISSN:</td><td>0022-0388</td></tr><tr></tr></table>', 'cluster': 1, 'weight<links>': 11, 'weight<total_link_strength>': 20, 'weight<citations>': 75, 'score<journal_impact_factor>': 0.686, 'size': 2.0803046, 'r': 0, 'g': 0, 'b': 0, 'x': 395.51544, 'y': 339.39783}, '131': {'label': 'land econ', 'description': '<table><tr><td>Journal:</td><td>LAND ECONOMICS</td></tr><tr><td>ISSN:</td><td>0023-7639</td></tr><tr></tr></table>', 'cluster': 1, 'weight<links>': 20, 'weight<total_link_strength>': 39, 'weight<citations>': 75, 'score<journal_impact_factor>': 1.042, 'size': 2.0803046, 'r': 0, 'g': 0, 'b': 0, 'x': 41.72478, 'y': 85.97691}, '132': {'label': 'j consum psychol', 'description': '<table><tr><td>Journal:</td><td>JOURNAL OF CONSUMER PSYCHOLOGY</td></tr><tr><td>ISSN:</td><td>1057-7408</td></tr><tr></tr></table>', 'cluster': 4, 'weight<links>': 15, 'weight<total_link_strength>': 42, 'weight<citations>': 74, 'score<journal_impact_factor>': 1.72, 'size': 2.450883, 'r': 0, 'g': 0, 'b': 0, 'x': -460.04346, 'y': 850.3628}, '133': {'label': 'corp gov-oxford', 'description': '<table><tr><td>Journal:</td><td>CORPORATE GOVERNANCE-AN INTERNATIONAL REVIEW</td></tr><tr><td>ISSN:</td><td>0964-8410</td></tr><tr></tr></table>', 'cluster': 5, 'weight<links>': 50, 'weight<total_link_strength>': 101, 'weight<citations>': 74, 'score<journal_impact_factor>': 1.59, 'size': 9.269212, 'r': 0, 'g': 0, 'b': 0, 'x': 593.5372, 'y': 454.75916}, '134': {'label': 'fed reserve bank st', 'description': '<table><tr><td>Journal:</td><td>FEDERAL RESERVE BANK OF ST LOUIS REVIEW</td></tr><tr><td>ISSN:</td><td>0014-9187</td></tr><tr></tr></table>', 'cluster': 1, 'weight<links>': 29, 'weight<total_link_strength>': 54, 'weight<citations>': 72, 'score<journal_impact_factor>': 0.536, 'size': 3.971439, 'r': 0, 'g': 0, 'b': 0, 'x': 515.1096, 'y': 528.0905}, '135': {'label': 'food policy', 'description': '<table><tr><td>Journal:</td><td>FOOD POLICY</td></tr><tr><td>ISSN:</td><td>0306-9192</td></tr><tr></tr></table>', 'cluster': 1, 'weight<links>': 11, 'weight<total_link_strength>': 19, 'weight<citations>': 72, 'score<journal_impact_factor>': 1.056, 'size': 2.0803046, 'r': 0, 'g': 0, 'b': 0, 'x': 318.1451, 'y': 916.1665}, '136': {'label': 'j bus finan account', 'description': '<table><tr><td>Journal:</td><td>JOURNAL OF BUSINESS FINANCE & ACCOUNTING</td></tr><tr><td>ISSN:</td><td>0306-686X</td></tr><tr></tr></table>', 'cluster': 5, 'weight<links>': 35, 'weight<total_link_strength>': 95, 'weight<citations>': 72, 'score<journal_impact_factor>': 0.692, 'size': 4.3602505, 'r': 0, 'g': 0, 'b': 0, 'x': 664.02515, 'y': 501.737}, '137': {'label': 'j econ surv', 'description': '<table><tr><td>Journal:</td><td>JOURNAL OF ECONOMIC SURVEYS</td></tr><tr><td>ISSN:</td><td>0950-0804</td></tr><tr></tr></table>', 'cluster': 1, 'weight<links>': 38, 'weight<total_link_strength>': 54, 'weight<citations>': 71, 'score<journal_impact_factor>': 0.797, 'size': 3.971439, 'r': 0, 'g': 0, 'b': 0, 'x': 369.56708, 'y': 642.13873}, '138': {'label': 'int bus rev', 'description': '<table><tr><td>Journal:</td><td>INTERNATIONAL BUSINESS REVIEW</td></tr><tr><td>ISSN:</td><td>0969-5931</td></tr><tr></tr></table>', 'cluster': 2, 'weight<links>': 26, 'weight<total_link_strength>': 77, 'weight<citations>': 70, 'score<journal_impact_factor>': 1.056, 'size': 3.5859692, 'r': 0, 'g': 0, 'b': 0, 'x': 71.905396, 'y': 1249.8545}, '139': {'label': 'account org soc', 'description': '<table><tr><td>Journal:</td><td>ACCOUNTING ORGANIZATIONS AND SOCIETY</td></tr><tr><td>ISSN:</td><td>0361-3682</td></tr><tr></tr></table>', 'cluster': 2, 'weight<links>': 33, 'weight<total_link_strength>': 52, 'weight<citations>': 69, 'score<journal_impact_factor>': 1.032, 'size': 5.147591, 'r': 0, 'g': 0, 'b': 0, 'x': -3.1249542, 'y': 1022.2521}, '140': {'label': 'small bus econ', 'description': '<table><tr><td>Journal:</td><td>SMALL BUSINESS ECONOMICS</td></tr><tr><td>ISSN:</td><td>0921-898X</td></tr><tr></tr></table>', 'cluster': 1, 'weight<links>': 28, 'weight<total_link_strength>': 60, 'weight<citations>': 69, 'score<journal_impact_factor>': 1.168, 'size': 4.3602505, 'r': 0, 'g': 0, 'b': 0, 'x': -169.25534, 'y': 1224.0586}, '141': {'label': 'int j ind organ', 'description': '<table><tr><td>Journal:</td><td>INTERNATIONAL JOURNAL OF INDUSTRIAL ORGANIZATION</td></tr><tr><td>ISSN:</td><td>0167-7187</td></tr><tr></tr></table>', 'cluster': 1, 'weight<links>': 22, 'weight<total_link_strength>': 31, 'weight<citations>': 69, 'score<journal_impact_factor>': 0.464, 'size': 2.0803046, 'r': 0, 'g': 0, 'b': 0, 'x': 554.9773, 'y': 555.9343}, '142': {'label': 'math financ', 'description': '<table><tr><td>Journal:</td><td>MATHEMATICAL FINANCE</td></tr><tr><td>ISSN:</td><td>0960-1627</td></tr><tr></tr></table>', 'cluster': 1, 'weight<links>': 6, 'weight<total_link_strength>': 12, 'weight<citations>': 68, 'score<journal_impact_factor>': 0.984, 'size': 1.3533748, 'r': 0, 'g': 0, 'b': 0, 'x': 343.45862, 'y': 495.50116}, '143': {'label': 'math oper res', 'description': '<table><tr><td>Journal:</td><td>MATHEMATICS OF OPERATIONS RESEARCH</td></tr><tr><td>ISSN:</td><td>0364-765X</td></tr><tr></tr></table>', 'cluster': 3, 'weight<links>': 18, 'weight<total_link_strength>': 28, 'weight<citations>': 68, 'score<journal_impact_factor>': 0.875, 'size': 1.3533748, 'r': 0, 'g': 0, 'b': 0, 'x': -445.93652, 'y': 359.70032}, '144': {'label': 'j law econ', 'description': '<table><tr><td>Journal:</td><td>JOURNAL OF LAW & ECONOMICS</td></tr><tr><td>ISSN:</td><td>0022-2186</td></tr><tr></tr></table>', 'cluster': 5, 'weight<links>': 44, 'weight<total_link_strength>': 89, 'weight<citations>': 68, 'score<journal_impact_factor>': 1.62, 'size': 3.971439, 'r': 0, 'g': 0, 'b': 0, 'x': 762.02344, 'y': 515.2505}, '145': {'label': 'comput optim appl', 'description': '<table><tr><td>Journal:</td><td>COMPUTATIONAL OPTIMIZATION AND APPLICATIONS</td></tr><tr><td>ISSN:</td><td>0926-6003</td></tr><tr></tr></table>', 'cluster': 3, 'weight<links>': 10, 'weight<total_link_strength>': 31, 'weight<citations>': 67, 'score<journal_impact_factor>': 0.851, 'size': 1.0, 'r': 0, 'g': 0, 'b': 0, 'x': -643.32544, 'y': 233.07768}, '146': {'label': 'contemp account res', 'description': '<table><tr><td>Journal:</td><td>CONTEMPORARY ACCOUNTING RESEARCH</td></tr><tr><td>ISSN:</td><td>0823-9150</td></tr><tr></tr></table>', 'cluster': 5, 'weight<links>': 20, 'weight<total_link_strength>': 91, 'weight<citations>': 66, 'score<journal_impact_factor>': 1.219, 'size': 1.3533748, 'r': 0, 'g': 0, 'b': 0, 'x': 578.6889, 'y': 502.76758}, '147': {'label': 'econ dev cult change', 'description': '<table><tr><td>Journal:</td><td>ECONOMIC DEVELOPMENT AND CULTURAL CHANGE</td></tr><tr><td>ISSN:</td><td>0013-0079</td></tr><tr></tr></table>', 'cluster': 1, 'weight<links>': 27, 'weight<total_link_strength>': 46, 'weight<citations>': 65, 'score<journal_impact_factor>': 0.875, 'size': 5.147591, 'r': 0, 'g': 0, 'b': 0, 'x': 433.14337, 'y': 393.42197}, '148': {'label': 'econ educ rev', 'description': '<table><tr><td>Journal:</td><td>ECONOMICS OF EDUCATION REVIEW</td></tr><tr><td>ISSN:</td><td>0272-7757</td></tr><tr></tr></table>', 'cluster': 1, 'weight<links>': 18, 'weight<total_link_strength>': 38, 'weight<citations>': 64, 'score<journal_impact_factor>': 0.557, 'size': 1.7142143, 'r': 0, 'g': 0, 'b': 0, 'x': 377.8916, 'y': 623.07025}, '149': {'label': 'j law econ organ', 'description': '<table><tr><td>Journal:</td><td>JOURNAL OF LAW ECONOMICS & ORGANIZATION</td></tr><tr><td>ISSN:</td><td>8756-6222</td></tr><tr></tr></table>', 'cluster': 1, 'weight<links>': 18, 'weight<total_link_strength>': 33, 'weight<citations>': 64, 'score<journal_impact_factor>': 1.488, 'size': 1.3533748, 'r': 0, 'g': 0, 'b': 0, 'x': 425.88696, 'y': 627.80865}, '150': {'label': 'decision sci', 'description': '<table><tr><td>Journal:</td><td>DECISION SCIENCES</td></tr><tr><td>ISSN:</td><td>0011-7315</td></tr><tr></tr></table>', 'cluster': 3, 'weight<links>': 47, 'weight<total_link_strength>': 108, 'weight<citations>': 63, 'score<journal_impact_factor>': 1.435, 'size': 5.147591, 'r': 0, 'g': 0, 'b': 0, 'x': -573.28064, 'y': 336.03113}, '151': {'label': 'j serv res-us', 'description': '<table><tr><td>Journal:</td><td>JOURNAL OF SERVICE RESEARCH</td></tr><tr><td>ISSN:</td><td>1094-6705</td></tr><tr></tr></table>', 'cluster': 4, 'weight<links>': 33, 'weight<total_link_strength>': 90, 'weight<citations>': 63, 'score<journal_impact_factor>': 1.14, 'size': 2.8255234, 'r': 0, 'g': 0, 'b': 0, 'x': -514.78516, 'y': 845.1798}, '152': {'label': 'camb j econ', 'description': '<table><tr><td>Journal:</td><td>CAMBRIDGE JOURNAL OF ECONOMICS</td></tr><tr><td>ISSN:</td><td>0309-166X</td></tr><tr></tr></table>', 'cluster': 1, 'weight<links>': 36, 'weight<total_link_strength>': 48, 'weight<citations>': 62, 'score<journal_impact_factor>': 0.7, 'size': 6.3521147, 'r': 0, 'g': 0, 'b': 0, 'x': 503.0943, 'y': 747.6429}, '153': {'label': 'nav res log', 'description': '<table><tr><td>Journal:</td><td>NAVAL RESEARCH LOGISTICS</td></tr><tr><td>ISSN:</td><td>0894-069X</td></tr><tr></tr></table>', 'cluster': 3, 'weight<links>': 15, 'weight<total_link_strength>': 42, 'weight<citations>': 62, 'score<journal_impact_factor>': 0.548, 'size': 1.3533748, 'r': 0, 'g': 0, 'b': 0, 'x': -642.8162, 'y': 571.64374}, '154': {'label': 'ieee t eng manage', 'description': '<table><tr><td>Journal:</td><td>IEEE TRANSACTIONS ON ENGINEERING MANAGEMENT</td></tr><tr><td>ISSN:</td><td>0018-9391</td></tr><tr></tr></table>', 'cluster': 4, 'weight<links>': 32, 'weight<total_link_strength>': 65, 'weight<citations>': 62, 'score<journal_impact_factor>': 0.962, 'size': 2.8255234, 'r': 0, 'g': 0, 'b': 0, 'x': -407.74533, 'y': 555.05664}, '155': {'label': 'prod plan control', 'description': '<table><tr><td>Journal:</td><td>PRODUCTION PLANNING & CONTROL</td></tr><tr><td>ISSN:</td><td>0953-7287</td></tr><tr></tr></table>', 'cluster': 3, 'weight<links>': 24, 'weight<total_link_strength>': 52, 'weight<citations>': 62, 'score<journal_impact_factor>': 0.561, 'size': 2.8255234, 'r': 0, 'g': 0, 'b': 0, 'x': -401.6568, 'y': 343.9241}, '156': {'label': 'econ geogr', 'description': '<table><tr><td>Journal:</td><td>ECONOMIC GEOGRAPHY</td></tr><tr><td>ISSN:</td><td>0013-0095</td></tr><tr></tr></table>', 'cluster': 1, 'weight<links>': 15, 'weight<total_link_strength>': 32, 'weight<citations>': 61, 'score<journal_impact_factor>': 2.065, 'size': 1.7142143, 'r': 0, 'g': 0, 'b': 0, 'x': 185.62012, 'y': 863.818}, '157': {'label': 'econ inq', 'description': '<table><tr><td>Journal:</td><td>ECONOMIC INQUIRY</td></tr><tr><td>ISSN:</td><td>0095-2583</td></tr><tr></tr></table>', 'cluster': 1, 'weight<links>': 36, 'weight<total_link_strength>': 52, 'weight<citations>': 60, 'score<journal_impact_factor>': 0.535, 'size': 3.5859692, 'r': 0, 'g': 0, 'b': 0, 'x': 513.6448, 'y': 713.9005}, '158': {'label': 'econ transit', 'description': '<table><tr><td>Journal:</td><td>ECONOMICS OF TRANSITION</td></tr><tr><td>ISSN:</td><td>0967-0750</td></tr><tr></tr></table>', 'cluster': 1, 'weight<links>': 31, 'weight<total_link_strength>': 50, 'weight<citations>': 57, 'score<journal_impact_factor>': 0.736, 'size': 2.0803046, 'r': 0, 'g': 0, 'b': 0, 'x': 504.67798, 'y': 560.90234}, '159': {'label': 'financ anal j', 'description': '<table><tr><td>Journal:</td><td>FINANCIAL ANALYSTS JOURNAL</td></tr><tr><td>ISSN:</td><td>0015-198X</td></tr><tr></tr></table>', 'cluster': 5, 'weight<links>': 24, 'weight<total_link_strength>': 31, 'weight<citations>': 57, 'score<journal_impact_factor>': 0.72, 'size': 1.7142143, 'r': 0, 'g': 0, 'b': 0, 'x': 704.0793, 'y': 625.41235}, '160': {'label': 'oxford rev econ pol', 'description': '<table><tr><td>Journal:</td><td>OXFORD REVIEW OF ECONOMIC POLICY</td></tr><tr><td>ISSN:</td><td>0266-903X</td></tr><tr></tr></table>', 'cluster': 1, 'weight<links>': 41, 'weight<total_link_strength>': 60, 'weight<citations>': 56, 'score<journal_impact_factor>': 0.552, 'size': 6.759763, 'r': 0, 'g': 0, 'b': 0, 'x': 346.89758, 'y': 594.0636}, '161': {'label': 'j prod innovat manag', 'description': '<table><tr><td>Journal:</td><td>JOURNAL OF PRODUCT INNOVATION MANAGEMENT</td></tr><tr><td>ISSN:</td><td>0737-6782</td></tr><tr></tr></table>', 'cluster': 2, 'weight<links>': 37, 'weight<total_link_strength>': 67, 'weight<citations>': 54, 'score<journal_impact_factor>': 1.585, 'size': 3.971439, 'r': 0, 'g': 0, 'b': 0, 'x': 154.97304, 'y': 1027.5299}, '162': {'label': 'organ res methods', 'description': '<table><tr><td>Journal:</td><td>ORGANIZATIONAL RESEARCH METHODS</td></tr><tr><td>ISSN:</td><td>1094-4281</td></tr><tr></tr></table>', 'cluster': 2, 'weight<links>': 16, 'weight<total_link_strength>': 28, 'weight<citations>': 53, 'score<journal_impact_factor>': 2.548, 'size': 1.3533748, 'r': 0, 'g': 0, 'b': 0, 'x': -45.53911, 'y': 962.75696}, '163': {'label': 'calif manage rev', 'description': '<table><tr><td>Journal:</td><td>CALIFORNIA MANAGEMENT REVIEW</td></tr><tr><td>ISSN:</td><td>0008-1256</td></tr><tr></tr></table>', 'cluster': 2, 'weight<links>': 37, 'weight<total_link_strength>': 65, 'weight<citations>': 53, 'score<journal_impact_factor>': 0.945, 'size': 2.0803046, 'r': 0, 'g': 0, 'b': 0, 'x': -2.856592, 'y': 957.6061}, '164': {'label': 'int tax public finan', 'description': '<table><tr><td>Journal:</td><td>INTERNATIONAL TAX AND PUBLIC FINANCE</td></tr><tr><td>ISSN:</td><td>0927-5940</td></tr><tr></tr></table>', 'cluster': 1, 'weight<links>': 15, 'weight<total_link_strength>': 26, 'weight<citations>': 53, 'score<journal_impact_factor>': 0.757, 'size': 1.7142143, 'r': 0, 'g': 0, 'b': 0, 'x': 356.92197, 'y': 836.1663}, '165': {'label': 'qual reliab eng int', 'description': '<table><tr><td>Journal:</td><td>QUALITY AND RELIABILITY ENGINEERING INTERNATIONAL</td></tr><tr><td>ISSN:</td><td>0748-8017</td></tr><tr></tr></table>', 'cluster': 3, 'weight<links>': 8, 'weight<total_link_strength>': 22, 'weight<citations>': 52, 'score<journal_impact_factor>': 0.5, 'size': 1.0, 'r': 0, 'g': 0, 'b': 0, 'x': -307.77066, 'y': 434.80817}, '166': {'label': 'transport res e-log', 'description': '<table><tr><td>Journal:</td><td>TRANSPORTATION RESEARCH PART E-LOGISTICS AND TRANSPORTATION REVIEW</td></tr><tr><td>ISSN:</td><td>1366-5545</td></tr><tr></tr></table>', 'cluster': 3, 'weight<links>': 21, 'weight<total_link_strength>': 39, 'weight<citations>': 51, 'size': 2.0803046, 'r': 0, 'g': 0, 'b': 0, 'x': -484.18866, 'y': 405.0845}, '167': {'label': 'j econ hist', 'description': '<table><tr><td>Journal:</td><td>JOURNAL OF ECONOMIC HISTORY</td></tr><tr><td>ISSN:</td><td>0022-0507</td></tr><tr></tr></table>', 'cluster': 1, 'weight<links>': 34, 'weight<total_link_strength>': 58, 'weight<citations>': 50, 'score<journal_impact_factor>': 1.015, 'size': 6.3521147, 'r': 0, 'g': 0, 'b': 0, 'x': 461.6394, 'y': 573.19794}, '168': {'label': 'j risk uncertainty', 'description': '<table><tr><td>Journal:</td><td>JOURNAL OF RISK AND UNCERTAINTY</td></tr><tr><td>ISSN:</td><td>0895-5646</td></tr><tr></tr></table>', 'cluster': 1, 'weight<links>': 17, 'weight<total_link_strength>': 35, 'weight<citations>': 49, 'score<journal_impact_factor>': 1.122, 'size': 1.3533748, 'r': 0, 'g': 0, 'b': 0, 'x': -647.5617, 'y': 477.57343}, '169': {'label': 'int j electron comm', 'description': '<table><tr><td>Journal:</td><td>INTERNATIONAL JOURNAL OF ELECTRONIC COMMERCE</td></tr><tr><td>ISSN:</td><td>1086-4415</td></tr><tr></tr></table>', 'cluster': 4, 'weight<links>': 17, 'weight<total_link_strength>': 43, 'weight<citations>': 49, 'score<journal_impact_factor>': 1.186, 'size': 1.3533748, 'r': 0, 'g': 0, 'b': 0, 'x': -619.2954, 'y': 705.97095}, '170': {'label': 'j small bus manage', 'description': '<table><tr><td>Journal:</td><td>JOURNAL OF SMALL BUSINESS MANAGEMENT</td></tr><tr><td>ISSN:</td><td>0047-2778</td></tr><tr></tr></table>', 'cluster': 2, 'weight<links>': 32, 'weight<total_link_strength>': 60, 'weight<citations>': 47, 'score<journal_impact_factor>': 0.703, 'size': 1.7142143, 'r': 0, 'g': 0, 'b': 0, 'x': -331.90814, 'y': 1041.9468}, '171': {'label': 'labour econ', 'description': '<table><tr><td>Journal:</td><td>LABOUR ECONOMICS</td></tr><tr><td>ISSN:</td><td>0927-5371</td></tr><tr></tr></table>', 'cluster': 1, 'weight<links>': 25, 'weight<total_link_strength>': 37, 'weight<citations>': 47, 'score<journal_impact_factor>': 0.671, 'size': 2.450883, 'r': 0, 'g': 0, 'b': 0, 'x': 595.4952, 'y': 839.8434}, '172': {'label': 'scand j econ', 'description': '<table><tr><td>Journal:</td><td>SCANDINAVIAN JOURNAL OF ECONOMICS</td></tr><tr><td>ISSN:</td><td>0347-0520</td></tr><tr></tr></table>', 'cluster': 1, 'weight<links>': 28, 'weight<total_link_strength>': 43, 'weight<citations>': 47, 'score<journal_impact_factor>': 0.676, 'size': 2.0803046, 'r': 0, 'g': 0, 'b': 0, 'x': 381.67108, 'y': 594.82306}, '173': {'label': 'j comp econ', 'description': '<table><tr><td>Journal:</td><td>JOURNAL OF COMPARATIVE ECONOMICS</td></tr><tr><td>ISSN:</td><td>0147-5967</td></tr><tr></tr></table>', 'cluster': 1, 'weight<links>': 19, 'weight<total_link_strength>': 37, 'weight<citations>': 46, 'score<journal_impact_factor>': 0.691, 'size': 2.0803046, 'r': 0, 'g': 0, 'b': 0, 'x': 450.74893, 'y': 687.03546}, '174': {'label': 'int j res mark', 'description': '<table><tr><td>Journal:</td><td>INTERNATIONAL JOURNAL OF RESEARCH IN MARKETING</td></tr><tr><td>ISSN:</td><td>0167-8116</td></tr><tr></tr></table>', 'cluster': 4, 'weight<links>': 26, 'weight<total_link_strength>': 49, 'weight<citations>': 45, 'score<journal_impact_factor>': 1.071, 'size': 2.450883, 'r': 0, 'g': 0, 'b': 0, 'x': -421.2471, 'y': 909.05774}, '175': {'label': 'j econ issues', 'description': '<table><tr><td>Journal:</td><td>JOURNAL OF ECONOMIC ISSUES</td></tr><tr><td>ISSN:</td><td>0021-3624</td></tr><tr></tr></table>', 'cluster': 1, 'weight<links>': 44, 'weight<total_link_strength>': 50, 'weight<citations>': 45, 'score<journal_impact_factor>': 0.47, 'size': 5.147591, 'r': 0, 'g': 0, 'b': 0, 'x': 484.94794, 'y': 594.288}, '176': {'label': 'econ model', 'description': '<table><tr><td>Journal:</td><td>ECONOMIC MODELLING</td></tr><tr><td>ISSN:</td><td>0264-9993</td></tr><tr></tr></table>', 'cluster': 1, 'weight<links>': 25, 'weight<total_link_strength>': 50, 'weight<citations>': 44, 'score<journal_impact_factor>': 0.375, 'size': 2.8255234, 'r': 0, 'g': 0, 'b': 0, 'x': 299.87073, 'y': 594.2263}, '177': {'label': 'j ind econ', 'description': '<table><tr><td>Journal:</td><td>JOURNAL OF INDUSTRIAL ECONOMICS</td></tr><tr><td>ISSN:</td><td>0022-1821</td></tr><tr></tr></table>', 'cluster': 1, 'weight<links>': 28, 'weight<total_link_strength>': 34, 'weight<citations>': 43, 'score<journal_impact_factor>': 0.86, 'size': 2.8255234, 'r': 0, 'g': 0, 'b': 0, 'x': -10.535067, 'y': 1048.4456}, '178': {'label': 'long range plann', 'description': '<table><tr><td>Journal:</td><td>LONG RANGE PLANNING</td></tr><tr><td>ISSN:</td><td>0024-6301</td></tr><tr></tr></table>', 'cluster': 2, 'weight<links>': 21, 'weight<total_link_strength>': 34, 'weight<citations>': 43, 'score<journal_impact_factor>': 1.667, 'size': 1.3533748, 'r': 0, 'g': 0, 'b': 0, 'x': 0.07751256, 'y': 1080.5636}, '179': {'label': 'world bank econ rev', 'description': '<table><tr><td>Journal:</td><td>WORLD BANK ECONOMIC REVIEW</td></tr><tr><td>ISSN:</td><td>0258-6770</td></tr><tr></tr></table>', 'cluster': 1, 'weight<links>': 20, 'weight<total_link_strength>': 31, 'weight<citations>': 43, 'score<journal_impact_factor>': 1.263, 'size': 1.7142143, 'r': 0, 'g': 0, 'b': 0, 'x': 310.1428, 'y': 625.6055}, '180': {'label': 'j retailing', 'description': '<table><tr><td>Journal:</td><td>JOURNAL OF RETAILING</td></tr><tr><td>ISSN:</td><td>0022-4359</td></tr><tr></tr></table>', 'cluster': 4, 'weight<links>': 16, 'weight<total_link_strength>': 36, 'weight<citations>': 42, 'score<journal_impact_factor>': 2.054, 'size': 1.0, 'r': 0, 'g': 0, 'b': 0, 'x': -608.63324, 'y': 904.1241}, '181': {'label': 'financ manage', 'description': '<table><tr><td>Journal:</td><td>FINANCIAL MANAGEMENT</td></tr><tr><td>ISSN:</td><td>0046-3892</td></tr><tr></tr></table>', 'cluster': 5, 'weight<links>': 32, 'weight<total_link_strength>': 67, 'weight<citations>': 42, 'size': 2.450883, 'r': 0, 'g': 0, 'b': 0, 'x': 606.4597, 'y': 345.55292}, '182': {'label': 'resour energy econ', 'description': '<table><tr><td>Journal:</td><td>RESOURCE AND ENERGY ECONOMICS</td></tr><tr><td>ISSN:</td><td>0928-7655</td></tr><tr></tr></table>', 'cluster': 1, 'weight<links>': 17, 'weight<total_link_strength>': 25, 'weight<citations>': 41, 'score<journal_impact_factor>': 1.05, 'size': 1.0, 'r': 0, 'g': 0, 'b': 0, 'x': 39.648186, 'y': -48.010994}, '183': {'label': 'j manage inquiry', 'description': '<table><tr><td>Journal:</td><td>JOURNAL OF MANAGEMENT INQUIRY</td></tr><tr><td>ISSN:</td><td>1056-4926</td></tr><tr></tr></table>', 'cluster': 2, 'weight<links>': 19, 'weight<total_link_strength>': 37, 'weight<citations>': 40, 'score<journal_impact_factor>': 1.338, 'size': 1.7142143, 'r': 0, 'g': 0, 'b': 0, 'x': 201.0805, 'y': 996.9437}, '184': {'label': 'j real estate financ', 'description': '<table><tr><td>Journal:</td><td>JOURNAL OF REAL ESTATE FINANCE AND ECONOMICS</td></tr><tr><td>ISSN:</td><td>0895-5638</td></tr><tr></tr></table>', 'cluster': 3, 'weight<links>': 19, 'weight<total_link_strength>': 22, 'weight<citations>': 40, 'score<journal_impact_factor>': 0.372, 'size': 1.0, 'r': 0, 'g': 0, 'b': 0, 'x': 651.5857, 'y': 606.99133}, '185': {'label': 'j regul econ', 'description': '<table><tr><td>Journal:</td><td>JOURNAL OF REGULATORY ECONOMICS</td></tr><tr><td>ISSN:</td><td>0922-680X</td></tr><tr></tr></table>', 'cluster': 1, 'weight<links>': 16, 'weight<total_link_strength>': 32, 'weight<citations>': 40, 'score<journal_impact_factor>': 0.548, 'size': 1.3533748, 'r': 0, 'g': 0, 'b': 0, 'x': 317.9319, 'y': 515.33093}, '186': {'label': 'rev dev econ', 'description': '<table><tr><td>Journal:</td><td>REVIEW OF DEVELOPMENT ECONOMICS</td></tr><tr><td>ISSN:</td><td>1363-6669</td></tr><tr></tr></table>', 'cluster': 1, 'weight<links>': 27, 'weight<total_link_strength>': 37, 'weight<citations>': 40, 'score<journal_impact_factor>': 0.55, 'size': 1.3533748, 'r': 0, 'g': 0, 'b': 0, 'x': 234.55579, 'y': 691.53174}, '187': {'label': 'group organ manage', 'description': '<table><tr><td>Journal:</td><td>GROUP & ORGANIZATION MANAGEMENT</td></tr><tr><td>ISSN:</td><td>1059-6011</td></tr><tr></tr></table>', 'cluster': 2, 'weight<links>': 12, 'weight<total_link_strength>': 22, 'weight<citations>': 39, 'score<journal_impact_factor>': 0.787, 'size': 1.0, 'r': 0, 'g': 0, 'b': 0, 'x': 76.0468, 'y': 1164.1295}, '188': {'label': 'hum resour manage-us', 'description': '<table><tr><td>Journal:</td><td>HUMAN RESOURCE MANAGEMENT</td></tr><tr><td>ISSN:</td><td>0090-4848</td></tr><tr></tr></table>', 'cluster': 2, 'weight<links>': 19, 'weight<total_link_strength>': 32, 'weight<citations>': 39, 'score<journal_impact_factor>': 0.642, 'size': 1.3533748, 'r': 0, 'g': 0, 'b': 0, 'x': 70.99452, 'y': 1103.0496}, '189': {'label': 'supply chain manag', 'description': '<table><tr><td>Journal:</td><td>SUPPLY CHAIN MANAGEMENT-AN INTERNATIONAL JOURNAL</td></tr><tr><td>ISSN:</td><td>1359-8546</td></tr><tr></tr></table>', 'cluster': 3, 'weight<links>': 24, 'weight<total_link_strength>': 40, 'weight<citations>': 39, 'score<journal_impact_factor>': 0.913, 'size': 1.0, 'r': 0, 'g': 0, 'b': 0, 'x': -484.2189, 'y': 494.51056}, '190': {'label': 'interfaces', 'description': '<table><tr><td>Journal:</td><td>INTERFACES</td></tr><tr><td>ISSN:</td><td>0092-2102</td></tr><tr></tr></table>', 'cluster': 3, 'weight<links>': 10, 'weight<total_link_strength>': 24, 'weight<citations>': 39, 'score<journal_impact_factor>': 0.575, 'size': 1.0, 'r': 0, 'g': 0, 'b': 0, 'x': -258.60052, 'y': 514.8243}, '191': {'label': 'oxford econ pap', 'description': '<table><tr><td>Journal:</td><td>OXFORD ECONOMIC PAPERS-NEW SERIES</td></tr><tr><td>ISSN:</td><td>0030-7653</td></tr><tr></tr></table>', 'cluster': 1, 'weight<links>': 36, 'weight<total_link_strength>': 47, 'weight<citations>': 38, 'score<journal_impact_factor>': 0.645, 'size': 5.147591, 'r': 0, 'g': 0, 'b': 0, 'x': 513.04956, 'y': 496.62024}, '192': {'label': 'int small bus j', 'description': '<table><tr><td>Journal:</td><td>INTERNATIONAL SMALL BUSINESS JOURNAL</td></tr><tr><td>ISSN:</td><td>0266-2426</td></tr><tr></tr></table>', 'cluster': 2, 'weight<links>': 22, 'weight<total_link_strength>': 43, 'weight<citations>': 38, 'score<journal_impact_factor>': 1.25, 'size': 1.7142143, 'r': 0, 'g': 0, 'b': 0, 'x': -206.49109, 'y': 914.2172}, '193': {'label': 'j popul econ', 'description': '<table><tr><td>Journal:</td><td>JOURNAL OF POPULATION ECONOMICS</td></tr><tr><td>ISSN:</td><td>0933-1433</td></tr><tr></tr></table>', 'cluster': 1, 'weight<links>': 15, 'weight<total_link_strength>': 26, 'weight<citations>': 38, 'score<journal_impact_factor>': 0.487, 'size': 1.3533748, 'r': 0, 'g': 0, 'b': 0, 'x': 529.9041, 'y': 659.9555}, '194': {'label': 'j policy model', 'description': '<table><tr><td>Journal:</td><td>JOURNAL OF POLICY MODELING</td></tr><tr><td>ISSN:</td><td>0161-8938</td></tr><tr></tr></table>', 'cluster': 1, 'weight<links>': 18, 'weight<total_link_strength>': 22, 'weight<citations>': 38, 'score<journal_impact_factor>': 0.279, 'size': 1.7142143, 'r': 0, 'g': 0, 'b': 0, 'x': 36.833042, 'y': 317.28873}, '195': {'label': 'int j serv ind manag', 'description': '<table><tr><td>Journal:</td><td>INTERNATIONAL JOURNAL OF SERVICE INDUSTRY MANAGEMENT</td></tr><tr><td>ISSN:</td><td>0956-4233</td></tr><tr></tr></table>', 'cluster': 4, 'weight<links>': 15, 'weight<total_link_strength>': 30, 'weight<citations>': 38, 'score<journal_impact_factor>': 0.804, 'size': 1.3533748, 'r': 0, 'g': 0, 'b': 0, 'x': -275.84402, 'y': 774.8383}, '196': {'label': 'auditing-j pract th', 'description': '<table><tr><td>Journal:</td><td>AUDITING-A JOURNAL OF PRACTICE & THEORY</td></tr><tr><td>ISSN:</td><td>0278-0380</td></tr><tr></tr></table>', 'cluster': 5, 'weight<links>': 11, 'weight<total_link_strength>': 39, 'weight<citations>': 38, 'score<journal_impact_factor>': 0.71, 'size': 1.0, 'r': 0, 'g': 0, 'b': 0, 'x': 822.24664, 'y': 377.17007}, '197': {'label': 'total qual manag bus', 'description': '<table><tr><td>Journal:</td><td>TOTAL QUALITY MANAGEMENT & BUSINESS EXCELLENCE</td></tr><tr><td>ISSN:</td><td>1478-3363</td></tr><tr></tr></table>', 'cluster': 4, 'weight<links>': 21, 'weight<total_link_strength>': 33, 'weight<citations>': 37, 'score<journal_impact_factor>': 0.278, 'size': 1.3533748, 'r': 0, 'g': 0, 'b': 0, 'x': -547.7388, 'y': 515.85547}, '198': {'label': 'explor econ hist', 'description': '<table><tr><td>Journal:</td><td>EXPLORATIONS IN ECONOMIC HISTORY</td></tr><tr><td>ISSN:</td><td>0014-4983</td></tr><tr></tr></table>', 'cluster': 1, 'weight<links>': 33, 'weight<total_link_strength>': 57, 'weight<citations>': 37, 'score<journal_impact_factor>': 0.667, 'size': 4.752323, 'r': 0, 'g': 0, 'b': 0, 'x': 277.3566, 'y': 565.8547}, '199': {'label': 'j financ intermed', 'description': '<table><tr><td>Journal:</td><td>JOURNAL OF FINANCIAL INTERMEDIATION</td></tr><tr><td>ISSN:</td><td>1042-9573</td></tr><tr></tr></table>', 'cluster': 5, 'weight<links>': 18, 'weight<total_link_strength>': 51, 'weight<citations>': 35, 'score<journal_impact_factor>': 0.805, 'size': 1.3533748, 'r': 0, 'g': 0, 'b': 0, 'x': 765.3177, 'y': 621.9821}, '200': {'label': 'j world bus', 'description': '<table><tr><td>Journal:</td><td>JOURNAL OF WORLD BUSINESS</td></tr><tr><td>ISSN:</td><td>1090-9516</td></tr><tr></tr></table>', 'cluster': 2, 'weight<links>': 18, 'weight<total_link_strength>': 38, 'weight<citations>': 35, 'score<journal_impact_factor>': 0.69, 'size': 1.0, 'r': 0, 'g': 0, 'b': 0, 'x': -89.12523, 'y': 1163.0159}, '201': {'label': 'int j technol manage', 'description': '<table><tr><td>Journal:</td><td>INTERNATIONAL JOURNAL OF TECHNOLOGY MANAGEMENT</td></tr><tr><td>ISSN:</td><td>0267-5730</td></tr><tr></tr></table>', 'cluster': 2, 'weight<links>': 28, 'weight<total_link_strength>': 43, 'weight<citations>': 35, 'score<journal_impact_factor>': 0.356, 'size': 2.450883, 'r': 0, 'g': 0, 'b': 0, 'x': -67.44768, 'y': 1275.388}, '202': {'label': 'j econ growth', 'description': '<table><tr><td>Journal:</td><td>JOURNAL OF ECONOMIC GROWTH</td></tr><tr><td>ISSN:</td><td>1381-4338</td></tr><tr></tr></table>', 'cluster': 1, 'weight<links>': 19, 'weight<total_link_strength>': 31, 'weight<citations>': 34, 'score<journal_impact_factor>': 2.292, 'size': 1.3533748, 'r': 0, 'g': 0, 'b': 0, 'x': 558.1804, 'y': 686.6082}, '203': {'label': 'eur financ manag', 'description': '<table><tr><td>Journal:</td><td>EUROPEA<N FINANCIAL MANAGEMENT</td></tr><tr><td>ISSN:</td><td>1354-7798</td></tr><tr></tr></table>', 'cluster': 5, 'weight<links>': 18, 'weight<total_link_strength>': 35, 'weight<citations>': 34, 'score<journal_impact_factor>': 0.717, 'size': 1.0, 'r': 0, 'g': 0, 'b': 0, 'x': 637.27625, 'y': 714.1948}, '204': {'label': 'bus ethics q', 'description': '<table><tr><td>Journal:</td><td>BUSINESS ETHICS QUARTERLY</td></tr><tr><td>ISSN:</td><td>1052-150X</td></tr><tr></tr></table>', 'cluster': 2, 'weight<links>': 15, 'weight<total_link_strength>': 31, 'weight<citations>': 33, 'score<journal_impact_factor>': 0.594, 'size': 1.3533748, 'r': 0, 'g': 0, 'b': 0, 'x': -124.51367, 'y': 1182.14}, '205': {'label': 'market lett', 'description': '<table><tr><td>Journal:</td><td>MARKETING LETTERS</td></tr><tr><td>ISSN:</td><td>0923-0645</td></tr><tr></tr></table>', 'cluster': 4, 'weight<links>': 20, 'weight<total_link_strength>': 43, 'weight<citations>': 33, 'score<journal_impact_factor>': 0.672, 'size': 1.3533748, 'r': 0, 'g': 0, 'b': 0, 'x': -590.7833, 'y': 975.7451}, '206': {'label': 'stud nonlinear dyn e', 'description': '<table><tr><td>Journal:</td><td>STUDIES IN NONLINEAR DYNAMICS AND ECONOMETRICS</td></tr><tr><td>ISSN:</td><td>1081-1826</td></tr><tr></tr></table>', 'cluster': 1, 'weight<links>': 15, 'weight<total_link_strength>': 21, 'weight<citations>': 33, 'score<journal_impact_factor>': 0.593, 'size': 1.3533748, 'r': 0, 'g': 0, 'b': 0, 'x': 373.3774, 'y': 436.89865}, '207': {'label': 'nber macroecon ann', 'description': '<table><tr><td>Journal:</td><td>NBER MACROECONOMICS ANNUAL</td></tr><tr><td>ISSN:</td><td>0889-3365</td></tr><tr></tr></table>', 'cluster': 1, 'weight<links>': 19, 'weight<total_link_strength>': 51, 'weight<citations>': 33, 'size': 1.3533748, 'r': 0, 'g': 0, 'b': 0, 'x': 679.3415, 'y': 764.0238}, '208': {'label': 'or spectrum', 'description': '<table><tr><td>Journal:</td><td>OR SPECTRUM</td></tr><tr><td>ISSN:</td><td>0171-6468</td></tr><tr></tr></table>', 'cluster': 3, 'weight<links>': 11, 'weight<total_link_strength>': 27, 'weight<citations>': 32, 'score<journal_impact_factor>': 0.562, 'size': 1.0, 'r': 0, 'g': 0, 'b': 0, 'x': -447.6207, 'y': 501.95117}, '209': {'label': 'r&d manage', 'description': '<table><tr><td>Journal:</td><td>R & D MANAGEMENT</td></tr><tr><td>ISSN:</td><td>0033-6807</td></tr><tr></tr></table>', 'cluster': 2, 'weight<links>': 27, 'weight<total_link_strength>': 55, 'weight<citations>': 32, 'score<journal_impact_factor>': 0.597, 'size': 1.7142143, 'r': 0, 'g': 0, 'b': 0, 'x': -228.16788, 'y': 1034.9733}, '210': {'label': 'j int marketing', 'description': '<table><tr><td>Journal:</td><td>JOURNAL OF INTERNATIONAL MARKETING</td></tr><tr><td>ISSN:</td><td>1069-031X</td></tr><tr></tr></table>', 'cluster': 4, 'weight<links>': 25, 'weight<total_link_strength>': 55, 'weight<citations>': 32, 'score<journal_impact_factor>': 0.95, 'size': 1.3533748, 'r': 0, 'g': 0, 'b': 0, 'x': -91.73956, 'y': 1032.0066}, '211': {'label': 'econ hist rev', 'description': '<table><tr><td>Journal:</td><td>ECONOMIC HISTORY REVIEW</td></tr><tr><td>ISSN:</td><td>0013-0117</td></tr><tr></tr></table>', 'cluster': 1, 'weight<links>': 30, 'weight<total_link_strength>': 38, 'weight<citations>': 32, 'score<journal_impact_factor>': 1.171, 'size': 4.752323, 'r': 0, 'g': 0, 'b': 0, 'x': 408.61597, 'y': 540.89557}, '212': {'label': 'exp econ', 'description': '<table><tr><td>Journal:</td><td>EXPERIMENTAL ECONOMICS</td></tr><tr><td>ISSN:</td><td>1386-4157</td></tr><tr></tr></table>', 'cluster': 1, 'weight<links>': 12, 'weight<total_link_strength>': 23, 'weight<citations>': 32, 'score<journal_impact_factor>': 1.128, 'size': 1.3533748, 'r': 0, 'g': 0, 'b': 0, 'x': 464.24686, 'y': 550.4503}, '213': {'label': 'res technol manage', 'description': '<table><tr><td>Journal:</td><td>RESEARCH-TECHNOLOGY MANAGEMENT</td></tr><tr><td>ISSN:</td><td>0895-6308</td></tr><tr></tr></table>', 'cluster': 2, 'weight<links>': 19, 'weight<total_link_strength>': 24, 'weight<citations>': 30, 'score<journal_impact_factor>': 0.476, 'size': 1.0, 'r': 0, 'g': 0, 'b': 0, 'x': -85.29353, 'y': 760.5497}, '214': {'label': 'rev ind organ', 'description': '<table><tr><td>Journal:</td><td>REVIEW OF INDUSTRIAL ORGANIZATION</td></tr><tr><td>ISSN:</td><td>0889-938X</td></tr><tr></tr></table>', 'cluster': 1, 'weight<links>': 21, 'weight<total_link_strength>': 25, 'weight<citations>': 29, 'score<journal_impact_factor>': 0.411, 'size': 1.0, 'r': 0, 'g': 0, 'b': 0, 'x': 514.6485, 'y': 596.56555}, '215': {'label': 'j organ change manag', 'description': '<table><tr><td>Journal:</td><td>JOURNAL OF ORGANIZATIONAL CHANGE MANAGEMENT</td></tr><tr><td>ISSN:</td><td>0953-4814</td></tr><tr></tr></table>', 'cluster': 2, 'weight<links>': 13, 'weight<total_link_strength>': 29, 'weight<citations>': 29, 'score<journal_impact_factor>': 0.36, 'size': 1.3533748, 'r': 0, 'g': 0, 'b': 0, 'x': 34.82405, 'y': 993.3733}, '216': {'label': 'j agr econ', 'description': '<table><tr><td>Journal:</td><td>JOURNAL OF AGRICULTURAL ECONOMICS</td></tr><tr><td>ISSN:</td><td>0021-857X</td></tr><tr></tr></table>', 'cluster': 1, 'weight<links>': 14, 'weight<total_link_strength>': 18, 'weight<citations>': 29, 'size': 1.0, 'r': 0, 'g': 0, 'b': 0, 'x': -104.91166, 'y': -123.74902}, '217': {'label': 'j forecasting', 'description': '<table><tr><td>Journal:</td><td>JOURNAL OF FORECASTING</td></tr><tr><td>ISSN:</td><td>0277-6693</td></tr><tr></tr></table>', 'cluster': 1, 'weight<links>': 18, 'weight<total_link_strength>': 28, 'weight<citations>': 28, 'score<journal_impact_factor>': 0.4, 'size': 1.0, 'r': 0, 'g': 0, 'b': 0, 'x': -137.10527, 'y': 551.93396}, '218': {'label': 'scot j polit econ', 'description': '<table><tr><td>Journal:</td><td>SCOTTISH JOURNAL OF POLITICAL ECONOMY</td></tr><tr><td>ISSN:</td><td>0036-9292</td></tr><tr></tr></table>', 'cluster': 1, 'weight<links>': 25, 'weight<total_link_strength>': 29, 'weight<citations>': 25, 'score<journal_impact_factor>': 0.343, 'size': 3.2039497, 'r': 0, 'g': 0, 'b': 0, 'x': 498.96744, 'y': 394.73975}, '219': {'label': 'organ dyn', 'description': '<table><tr><td>Journal:</td><td>ORGANIZATIONAL DYNAMICS</td></tr><tr><td>ISSN:</td><td>0090-2616</td></tr><tr></tr></table>', 'cluster': 2, 'weight<links>': 21, 'weight<total_link_strength>': 37, 'weight<citations>': 24, 'score<journal_impact_factor>': 0.345, 'size': 1.0, 'r': 0, 'g': 0, 'b': 0, 'x': -171.72379, 'y': 824.67126}, '220': {'label': 'econ policy', 'description': '<table><tr><td>Journal:</td><td>ECONOMIC POLICY</td></tr><tr><td>ISSN:</td><td>0266-4658</td></tr><tr></tr></table>', 'cluster': 1, 'weight<links>': 36, 'weight<total_link_strength>': 46, 'weight<citations>': 24, 'score<journal_impact_factor>': 1.281, 'size': 3.2039497, 'r': 0, 'g': 0, 'b': 0, 'x': 484.11087, 'y': 536.40924}, '221': {'label': 'am j econ sociol', 'description': '<table><tr><td>Journal:</td><td>AMERICAN JOURNAL OF ECONOMICS AND SOCIOLOGY</td></tr><tr><td>ISSN:</td><td>0002-9246</td></tr><tr></tr></table>', 'cluster': 1, 'weight<links>': 24, 'weight<total_link_strength>': 24, 'weight<citations>': 24, 'score<journal_impact_factor>': 0.192, 'size': 2.450883, 'r': 0, 'g': 0, 'b': 0, 'x': 318.81476, 'y': 559.331}, '222': {'label': 'int market rev', 'description': '<table><tr><td>Journal:</td><td>INTERNATIONAL MARKETING REVIEW</td></tr><tr><td>ISSN:</td><td>0265-1335</td></tr><tr></tr></table>', 'cluster': 4, 'weight<links>': 19, 'weight<total_link_strength>': 30, 'weight<citations>': 23, 'score<journal_impact_factor>': 0.508, 'size': 1.0, 'r': 0, 'g': 0, 'b': 0, 'x': -236.60608, 'y': 973.0005}, '223': {'label': 'fisc stud', 'description': '<table><tr><td>Journal:</td><td>FISCAL STUDIES</td></tr><tr><td>ISSN:</td><td>0143-5671</td></tr><tr></tr></table>', 'cluster': 1, 'weight<links>': 25, 'weight<total_link_strength>': 29, 'weight<citations>': 23, 'score<journal_impact_factor>': 0.439, 'size': 2.450883, 'r': 0, 'g': 0, 'b': 0, 'x': 278.36276, 'y': 767.96985}, '224': {'label': 'economet rev', 'description': '<table><tr><td>Journal:</td><td>ECONOMETRIC REVIEWS</td></tr><tr><td>ISSN:</td><td>0747-4938</td></tr><tr></tr></table>', 'cluster': 1, 'weight<links>': 17, 'weight<total_link_strength>': 37, 'weight<citations>': 23, 'score<journal_impact_factor>': 0.711, 'size': 1.0, 'r': 0, 'g': 0, 'b': 0, 'x': 153.07677, 'y': 625.52747}, '225': {'label': 'int j manag rev', 'description': '<table><tr><td>Journal:</td><td>INTERNATIONAL JOURNAL OF MANAGEMENT REVIEWS</td></tr><tr><td>ISSN:</td><td>1460-8545</td></tr><tr></tr></table>', 'cluster': 2, 'weight<links>': 23, 'weight<total_link_strength>': 32, 'weight<citations>': 23, 'score<journal_impact_factor>': 1.5, 'size': 1.0, 'r': 0, 'g': 0, 'b': 0, 'x': 90.56296, 'y': 872.5964}, '226': {'label': 'bus hist', 'description': '<table><tr><td>Journal:</td><td>BUSINESS HISTORY</td></tr><tr><td>ISSN:</td><td>0007-6791</td></tr><tr></tr></table>', 'cluster': 1, 'weight<links>': 30, 'weight<total_link_strength>': 42, 'weight<citations>': 21, 'score<journal_impact_factor>': 0.62, 'size': 2.450883, 'r': 0, 'g': 0, 'b': 0, 'x': 411.80048, 'y': 691.15173}, '227': {'label': 'macroecon dyn', 'description': '<table><tr><td>Journal:</td><td>MACROECONOMIC DYNAMICS</td></tr><tr><td>ISSN:</td><td>1365-1005</td></tr><tr></tr></table>', 'cluster': 1, 'weight<links>': 14, 'weight<total_link_strength>': 28, 'weight<citations>': 20, 'score<journal_impact_factor>': 0.453, 'size': 1.0, 'r': 0, 'g': 0, 'b': 0, 'x': 374.3667, 'y': 593.0152}, '228': {'label': 'manch sch', 'description': '<table><tr><td>Journal:</td><td>MANCHESTER SCHOOL</td></tr><tr><td>ISSN:</td><td>1463-6786</td></tr><tr></tr></table>', 'cluster': 1, 'weight<links>': 27, 'weight<total_link_strength>': 31, 'weight<citations>': 20, 'score<journal_impact_factor>': 0.153, 'size': 1.7142143, 'r': 0, 'g': 0, 'b': 0, 'x': 538.83844, 'y': 617.6636}, '229': {'label': 'new tech work employ', 'description': '<table><tr><td>Journal:</td><td>NEW TECHNOLOGY WORK AND EMPLOYMENT</td></tr><tr><td>ISSN:</td><td>0268-1072</td></tr><tr></tr></table>', 'cluster': 2, 'weight<links>': 26, 'weight<total_link_strength>': 30, 'weight<citations>': 19, 'score<journal_impact_factor>': 0.857, 'size': 1.7142143, 'r': 0, 'g': 0, 'b': 0, 'x': -80.09598, 'y': 960.73676}, '230': {'label': 'rev world econ', 'description': '<table><tr><td>Journal:</td><td>REVIEW OF WORLD ECONOMICS</td></tr><tr><td>ISSN:</td><td>1610-2878</td></tr><tr></tr></table>', 'cluster': 1, 'weight<links>': 11, 'weight<total_link_strength>': 26, 'weight<citations>': 19, 'score<journal_impact_factor>': 0.382, 'size': 1.0, 'r': 0, 'g': 0, 'b': 0, 'x': 225.2423, 'y': 634.99255}, '231': {'label': 'enterp soc', 'description': '<table><tr><td>Journal:</td><td>ENTERPRISE & SOCIETY</td></tr><tr><td>ISSN:</td><td>1467-2227</td></tr><tr></tr></table>', 'cluster': 1, 'weight<links>': 27, 'weight<total_link_strength>': 35, 'weight<citations>': 14, 'score<journal_impact_factor>': 0.475, 'size': 1.3533748, 'r': 0, 'g': 0, 'b': 0, 'x': 349.62646, 'y': 643.298}, '232': {'label': 'bus hist rev', 'description': '<table><tr><td>Journal:</td><td>BUSINESS HISTORY REVIEW</td></tr><tr><td>ISSN:</td><td>0007-6805</td></tr><tr></tr></table>', 'cluster': 1, 'weight<links>': 28, 'weight<total_link_strength>': 36, 'weight<citations>': 10, 'score<journal_impact_factor>': 0.679, 'size': 1.0, 'r': 0, 'g': 0, 'b': 0, 'x': 374.44363, 'y': 737.6593}})"
      ]
     },
     "execution_count": 47,
     "metadata": {},
     "output_type": "execute_result"
    }
   ],
   "source": [
    "test2.nodes.data()"
   ]
  },
  {
   "cell_type": "code",
   "execution_count": 10,
   "id": "6393c225-307a-4b6b-992f-d29b321dffcf",
   "metadata": {},
   "outputs": [
    {
     "data": {
      "text/plain": [
       "4112"
      ]
     },
     "execution_count": 10,
     "metadata": {},
     "output_type": "execute_result"
    }
   ],
   "source": [
    "len(test2.edges)"
   ]
  },
  {
   "cell_type": "code",
   "execution_count": 45,
   "id": "c109327a-1e11-4cc2-abef-05b6fbd48f66",
   "metadata": {},
   "outputs": [
    {
     "data": {
      "text/plain": [
       "232"
      ]
     },
     "execution_count": 45,
     "metadata": {},
     "output_type": "execute_result"
    }
   ],
   "source": [
    "fullName=[x[1]['description'].split('d>')[3].split('</')[0] for x in test2.nodes(data=True)]\n",
    "len(fullName)"
   ]
  },
  {
   "cell_type": "code",
   "execution_count": 44,
   "id": "e01f6090-12b5-4237-ac0a-bec5d837263a",
   "metadata": {},
   "outputs": [
    {
     "data": {
      "text/plain": [
       "232"
      ]
     },
     "execution_count": 44,
     "metadata": {},
     "output_type": "execute_result"
    }
   ],
   "source": [
    "issn=[x[1]['description'].split('td>')[7].split('<')[0] for x in test2.nodes(data=True)]\n",
    "len(issn)"
   ]
  },
  {
   "cell_type": "markdown",
   "id": "7aa749f7-feb2-4a1e-a2b3-52b4855b4903",
   "metadata": {},
   "source": [
    "En el año 2018, Quinten Dol sugirió a los usuarios de Twitter seguir a estas celebridades de la Tecnologia local:"
   ]
  },
  {
   "cell_type": "code",
   "execution_count": null,
   "id": "e1d5bcf6-43c0-4ee2-8511-8b18443aaedd",
   "metadata": {},
   "outputs": [],
   "source": [
    "from IPython.display import IFrame\n",
    "IFrame('https://www.builtinseattle.com/2018/08/06/50-seattle-tech-twitter-accounts-to-follow', 800, 350)"
   ]
  },
  {
   "cell_type": "markdown",
   "id": "2693fed5-6ad1-43e3-8fa4-986cc69b10a4",
   "metadata": {},
   "source": [
    "Aunque proponía 50 _influencers_, sólo hay 46 activos en X (antes Twitter). Se construyó una red para ver si entre ellos se seguían, y esto tenemos:"
   ]
  },
  {
   "cell_type": "code",
   "execution_count": null,
   "id": "7402f48a",
   "metadata": {},
   "outputs": [],
   "source": [
    "IFrame('https://docs.google.com/spreadsheets/d/e/2PACX-1vQaaNQb2frjnlt0fPSBQhp5tNydB0a9ibp98sblBn6OfvGd8vsx8cfHb4w8Cm_qC3EIeYFby_zNQBoK/pubhtml', 800, 350)"
   ]
  },
  {
   "cell_type": "markdown",
   "id": "5c22265e",
   "metadata": {},
   "source": [
    "# Exploración Básica de la red\n",
    "\n",
    "Como ya sabemos, la red se arma con la **adjacency matrix** o la **edgelist**. Hagámoslo nuevamente:"
   ]
  },
  {
   "cell_type": "code",
   "execution_count": null,
   "id": "99027b8c",
   "metadata": {},
   "outputs": [],
   "source": [
    "# librerias necesarias\n",
    "import networkx as nx\n",
    "import pandas as pd\n",
    "\n",
    "# link a GoogleDrive como un Excel\n",
    "linkGoogle=\"https://docs.google.com/spreadsheets/d/e/2PACX-1vQaaNQb2frjnlt0fPSBQhp5tNydB0a9ibp98sblBn6OfvGd8vsx8cfHb4w8Cm_qC3EIeYFby_zNQBoK/pub?output=xlsx\"\n",
    "\n",
    "# leyendo archivo de red\n",
    "adjacency=pd.read_excel(linkGoogle,   \n",
    "                        index_col=0,  # la columna '0' guarda los nombres\n",
    "                        sheet_name='adjacency') # la tabla tiene este nombre\n",
    "\n",
    "# creando red dirigida\n",
    "TopFromAdjacency=nx.from_pandas_adjacency(adjacency,create_using=nx.DiGraph)"
   ]
  },
  {
   "cell_type": "markdown",
   "id": "66e738bd",
   "metadata": {},
   "source": [
    "El objeto **TopFromAdjacency** contiene a la red creada. Esta red es **dirigida** (DiGraph):"
   ]
  },
  {
   "cell_type": "code",
   "execution_count": null,
   "id": "498e6e81",
   "metadata": {},
   "outputs": [],
   "source": [
    "type(TopFromAdjacency)"
   ]
  },
  {
   "cell_type": "markdown",
   "id": "834de12c",
   "metadata": {},
   "source": [
    "¿Tendremos algun _influencer_ que no siga a otro ni sea seguido por otro?"
   ]
  },
  {
   "cell_type": "code",
   "execution_count": null,
   "id": "bc794845",
   "metadata": {},
   "outputs": [],
   "source": [
    "list(nx.isolates(TopFromAdjacency))"
   ]
  },
  {
   "cell_type": "markdown",
   "id": "f0dfaba1",
   "metadata": {},
   "source": [
    "De ahi que la red no mostrará nodos aislados:"
   ]
  },
  {
   "cell_type": "code",
   "execution_count": null,
   "id": "ea9c92fb",
   "metadata": {},
   "outputs": [],
   "source": [
    "nx.draw(TopFromAdjacency, with_labels=True,edge_color='grey',width=0.3,node_color='yellow')"
   ]
  },
  {
   "cell_type": "markdown",
   "id": "0a9cc381",
   "metadata": {},
   "source": [
    "Por lo general, podemos explorar la red de dos maneras:\n",
    "\n",
    "1. A nivel de red en total.\n",
    "2. A nivel de cada actor (nodo)."
   ]
  },
  {
   "cell_type": "markdown",
   "id": "6e97c7e3",
   "metadata": {},
   "source": [
    "## Explorando a nivel de red"
   ]
  },
  {
   "cell_type": "markdown",
   "id": "9980b9fe",
   "metadata": {},
   "source": [
    "Recordemos la cantidad de nodos y enlaces de la red."
   ]
  },
  {
   "cell_type": "code",
   "execution_count": null,
   "id": "c85be679",
   "metadata": {},
   "outputs": [],
   "source": [
    "# nodos , #enlaces\n",
    "len(TopFromAdjacency.nodes),len(TopFromAdjacency.edges)"
   ]
  },
  {
   "cell_type": "markdown",
   "id": "56b22d44-2102-4bf7-96e2-222d490299a8",
   "metadata": {},
   "source": [
    "<div class=\"alert alert-success\" role=\"alert\">Red strongly connected \n",
    "</div>"
   ]
  },
  {
   "cell_type": "markdown",
   "id": "f67a9de5",
   "metadata": {},
   "source": [
    "Una de las primeras interrogantes, es saber si cada nodo puede conectarse con otro nodo. Para que ello sucede, teniendo en cuenta que la red es dirigida, debe haber un **path** o camino (sequencia de flechas) entre todo par de nodos de la red. Si esto fuera así, se debe verificar que la red es **strongly_connected**.\n",
    "\n",
    "En la Figura 1 vemos una red que tiene componentes fuertemente conectados, pero la red en su totalidad no lo es:\n",
    "<figure>\n",
    "<img src=\"https://github.com/MAGALLANESJoseManuel/MGPIT_Pol748_Redes_2/raw/main/picsForSession/strongly_connected.png\" style=\"width:70%\">\n",
    "<figcaption align = \"center\"> Figura 1. Red y componentes fuertemente conectados </figcaption>\n",
    "    <a href=\"https://en.wikipedia.org/wiki/Strongly_connected_component\" class=\"alert-link\">Fuente:Wikipedia</a>\n",
    "</figure>\n",
    "\n",
    "Nues\n",
    "\n",
    "Nuestra red tampoco lo es:"
   ]
  },
  {
   "cell_type": "code",
   "execution_count": null,
   "id": "fdabb832",
   "metadata": {},
   "outputs": [],
   "source": [
    "nx.is_strongly_connected(TopFromAdjacency)"
   ]
  },
  {
   "cell_type": "markdown",
   "id": "ebffcbed",
   "metadata": {},
   "source": [
    "El resultado anterior indica que hay algunos nodos que no pueden ser alcanzados por otros nodos.\n",
    "\n",
    "Revisemos tres conceptos clave para entedendera la red:\n",
    "\n",
    "1. Distancia o **Distance**.\n",
    "2. Alcanzabilidad o **Reachability**.\n",
    "2. Densidad o **Density**. \n",
    "\n",
    "<div class=\"alert alert-success\" role=\"alert\">Distancia y el Geodésico </div>\n",
    "\n",
    "La **distance** se entiende como la cantidad de _edges_ que separan un par de nodos. Como entre algun par de nodos puede haber muchas distancias, llamamos **geodésico** a la distancia más corta entre dos nodos. La Figura 2 nos muestra algunos geodésicos:\n",
    "\n",
    "<figure>\n",
    "<img src=\"https://github.com/MAGALLANESJoseManuel/MGPIT_Pol748_Redes_2/raw/main/picsForSession/geodesics.png\" style=\"width:70%\">\n",
    "<figcaption align = \"center\"> Figura 2. Geodésicos. \n",
    " </figcaption>\n",
    " <a href=\"https://www.wolframphysics.org/technical-introduction/limiting-behavior-and-emergent-geometry/geodesics/\" class=\"alert-link\">Fuente: Wolframphysics</a>\n",
    "</figure>\n",
    "\n",
    "Calculemos todos los gesodésicos de nuestra red:"
   ]
  },
  {
   "cell_type": "code",
   "execution_count": null,
   "id": "abc4f067",
   "metadata": {},
   "outputs": [],
   "source": [
    "# calcular los geodesicos para cada nodo\n",
    "geodesics = dict(nx.all_pairs_shortest_path_length(TopFromAdjacency))\n",
    "\n",
    "# formatear geodesicos como matriz\n",
    "MatrixGeo = [[geodesics.get(n,{}).get(m)  for m in TopFromAdjacency.nodes] for n in TopFromAdjacency.nodes]\n",
    "\n",
    "# formatear matriz de geodesicos como dataframe\n",
    "MatrixGeo_DF=pd.DataFrame(MatrixGeo,index=TopFromAdjacency.nodes, columns=TopFromAdjacency.nodes)\n",
    "\n",
    "#tenemos\n",
    "MatrixGeo_DF"
   ]
  },
  {
   "cell_type": "markdown",
   "id": "a18ff899",
   "metadata": {},
   "source": [
    "De la matriz podemos calcular la distribución de frequencias de los geodésicos:"
   ]
  },
  {
   "cell_type": "code",
   "execution_count": null,
   "id": "f86aa05a",
   "metadata": {},
   "outputs": [],
   "source": [
    "import numpy as np\n",
    "\n",
    "pd.DataFrame(np.unique(MatrixGeo_DF.values, return_counts=True),index=['valor','freq']).T.set_index('valor')"
   ]
  },
  {
   "cell_type": "markdown",
   "id": "e8700f69",
   "metadata": {},
   "source": [
    "La diagonal es cero (hay 46 ceros por ello), pero si alguna fila o columna presenta valores perdidos, nos indica que no hay camino entre esos dos nodos.\n",
    "\n",
    "Una métrica clave  que podemos calcular de la matriz de geodésicos es el diámetro:"
   ]
  },
  {
   "cell_type": "code",
   "execution_count": null,
   "id": "2e2dbe82",
   "metadata": {},
   "outputs": [],
   "source": [
    "MatrixGeo_DF.max().max()"
   ]
  },
  {
   "cell_type": "markdown",
   "id": "509d170d",
   "metadata": {},
   "source": [
    "El diámetro es la celda de mayor valor, pues representa la distancia mas corta entre las celdas mas alejadas de la red. Veámoslo en la Figura 3.\n",
    "\n",
    "<figure>\n",
    "<img src=\"https://github.com/MAGALLANESJoseManuel/MGPIT_Pol748_Redes_2/raw/main/picsForSession/diameter.png\" style=\"width:70%\">\n",
    "<figcaption align = \"center\"> Figura 3. Diámetro. \n",
    " </figcaption>\n",
    " Fuente: Autor.\n",
    "</figure>\n",
    "\n",
    "\n",
    "La función **diameter()** no podemos calcularlo de una red dirigida, por lo que debemos calcular los componentes fuertemente conectados:"
   ]
  },
  {
   "cell_type": "code",
   "execution_count": null,
   "id": "32144662",
   "metadata": {},
   "outputs": [],
   "source": [
    "Seattle_connComp = sorted(nx.strongly_connected_components(TopFromAdjacency), key=len, reverse=False)\n",
    "Seattle_connComp"
   ]
  },
  {
   "cell_type": "markdown",
   "id": "2a70f934-d91d-47f1-8f7e-99b16a1eb8cc",
   "metadata": {},
   "source": [
    "Ahora sí, calculo el diametro para el último componente:"
   ]
  },
  {
   "cell_type": "code",
   "execution_count": null,
   "id": "7e92fb30-2ba1-4440-8b8a-65676466ad40",
   "metadata": {},
   "outputs": [],
   "source": [
    "nx.diameter(TopFromAdjacency.subgraph(Seattle_connComp[3]))"
   ]
  },
  {
   "cell_type": "markdown",
   "id": "6c0e6e29",
   "metadata": {},
   "source": [
    "<div class=\"alert alert-success\" role=\"alert\">Alcanzabilidad </div>\n",
    "\n",
    "De la matriz de geodésicos podemos obtener la **reachability matrix**, que nos informa si hay conexión entre nodos:"
   ]
  },
  {
   "cell_type": "code",
   "execution_count": null,
   "id": "47dc8197",
   "metadata": {},
   "outputs": [],
   "source": [
    "MatrixReach_DF=(MatrixGeo_DF>0).replace({True:1,False:0})\n",
    "MatrixReach_DF"
   ]
  },
  {
   "cell_type": "markdown",
   "id": "36e591bb",
   "metadata": {},
   "source": [
    "De esta matriz podemos calcular el porcentaje de conexiones existentes (**connectedness**):"
   ]
  },
  {
   "cell_type": "code",
   "execution_count": null,
   "id": "8da655c8",
   "metadata": {},
   "outputs": [],
   "source": [
    "nNodes=len(TopFromAdjacency.nodes)\n",
    "MatrixReach_DF.sum().sum()/(nNodes*(nNodes-1))"
   ]
  },
  {
   "cell_type": "markdown",
   "id": "5611c366",
   "metadata": {},
   "source": [
    "Notese que la fila de _2morrowknight_ está llena de ceros (pero no es la única), déjame mostrarte la **red ego** de este actor (su vecindario de conexiones):"
   ]
  },
  {
   "cell_type": "code",
   "execution_count": null,
   "id": "884f4a30",
   "metadata": {},
   "outputs": [],
   "source": [
    "nx.draw(nx.ego_graph(TopFromAdjacency,'2morrowknight',undirected=True),with_labels=True)"
   ]
  },
  {
   "cell_type": "markdown",
   "id": "b64ed4ec",
   "metadata": {},
   "source": [
    "Se nota que _2morrowknight_ no tiene flechas que salen (out) de éste. Así, a _2morrowknight_ se le puede alcanzar, pero este no puede alcanzar a otros. Los otros actores los resaltamos aqui:"
   ]
  },
  {
   "cell_type": "code",
   "execution_count": null,
   "id": "ddc1f6e4",
   "metadata": {},
   "outputs": [],
   "source": [
    "nodesPositions=nx.spring_layout(TopFromAdjacency,k=0.5)\n",
    "ConnectedComponents =(TopFromAdjacency.subgraph(c).copy() for c in nx.strongly_connected_components(TopFromAdjacency))\n",
    "color_map = ['red' if node in Seattle_connComp[3] else 'green' for node in TopFromAdjacency.nodes()]\n",
    "nx.draw(TopFromAdjacency,nodesPositions,node_color=color_map,with_labels=True)"
   ]
  },
  {
   "cell_type": "markdown",
   "id": "ce17a30b",
   "metadata": {},
   "source": [
    "Un concepto que se desprende del _reachability_ es la **reciprocidad**, la proporcion de arcos dirigidos reciprocos, entre todos los arcos dirigidos."
   ]
  },
  {
   "cell_type": "code",
   "execution_count": null,
   "id": "bcfb3f04",
   "metadata": {},
   "outputs": [],
   "source": [
    "nx.overall_reciprocity(TopFromAdjacency)"
   ]
  },
  {
   "cell_type": "markdown",
   "id": "a3a1248f",
   "metadata": {},
   "source": [
    "La reciprocidad se puede calcular para cada nodo:"
   ]
  },
  {
   "cell_type": "code",
   "execution_count": null,
   "id": "5d0df3c1",
   "metadata": {},
   "outputs": [],
   "source": [
    "pd.DataFrame.from_dict(nx.reciprocity(TopFromAdjacency,nodes=TopFromAdjacency.nodes),orient='index').sort_values(0,ascending=False)"
   ]
  },
  {
   "cell_type": "markdown",
   "id": "9d0b9759",
   "metadata": {},
   "source": [
    "<div class=\"alert alert-success\" role=\"alert\">Densidad </div>\n",
    "\n",
    "Finalmente, la **densidad** es otro concepto básico a recordar, nos dice que tan cerca está la red de estar completamente conectada, como podemos notar en la Figura 4."
   ]
  },
  {
   "cell_type": "markdown",
   "id": "c2723af5",
   "metadata": {},
   "source": [
    "<figure>\n",
    "<img src=\"https://github.com/MAGALLANESJoseManuel/MGPIT_Pol748_Redes_2/raw/main/picsForSession/density.png\" style=\"width:70%\">\n",
    "<figcaption align = \"center\"> Figura 4. Densidades en las redes. \n",
    " </figcaption>\n",
    " <a href=\"https://medium.com/@jane.vdplas/https-medium-com-protium-digital-what-are-network-effects-4f1ec159b6\">Fuente: Medium</a>\n",
    "</figure>\n"
   ]
  },
  {
   "cell_type": "markdown",
   "id": "441a0677-8142-41d6-810f-ab2338b3bb95",
   "metadata": {},
   "source": [
    "La densidad de nuestra red es:"
   ]
  },
  {
   "cell_type": "code",
   "execution_count": null,
   "id": "6cf1c10d",
   "metadata": {},
   "outputs": [],
   "source": [
    "nx.density(TopFromAdjacency)"
   ]
  },
  {
   "cell_type": "markdown",
   "id": "ea94d675-7a8b-40da-821d-84b4b0bf6032",
   "metadata": {},
   "source": [
    "Hay una relacion muy importante entre density y reachability; son conceptos que NO son sinónimos, como vemos en la Figura 6."
   ]
  },
  {
   "cell_type": "markdown",
   "id": "8e605c07",
   "metadata": {},
   "source": [
    "<figure>\n",
    "<img src=\"https://github.com/MAGALLANESJoseManuel/MGPIT_Pol748_Redes_2/raw/main/picsForSession/reachability-and-density.png\" style=\"width:70%\">\n",
    "<figcaption align = \"center\"> Figura 5. Reachability versus Density. \n",
    " </figcaption>\n",
    " <a href=\"https://www.researchgate.net/publication/42763973_Toward_a_Network_Perspective_of_the_Study_of_Resilience_in_Social-Ecological_Systems\">Fuente: Ecology and Society</a>\n",
    "</figure>\n"
   ]
  },
  {
   "cell_type": "markdown",
   "id": "51a89ce2",
   "metadata": {},
   "source": [
    "## Explorando a nivel de actor - CENTRALIDAD\n",
    "\n",
    "Luego de caracterizar a la red, podemos enfocarnos en la relevancia del actor en la red. La relevancia puede entenderse de diferentes maneras, y aqui las más utilizadas:\n",
    "\n",
    "* Grado o **DEGREE**: Indica la cantidad de conexiones de un nodo, representada en general como un coeficiente, donde 100% (1) indicaría que el nodo se conecta con todos los nodos. Cuando tenemos una red dirigida, se calcula por separado el **IN**DEGREE y el **OUT**DEGREE.\n",
    "* Cercanía o **CLOSENESS**: Indica que tan cerca está un nodo a todos los demás. Las conexiones de algun nodo le permiten 'llegar' más rápido a los demás que a otros. Es decir, el promedio de sus geodésicos es el menor de todos. Cuando tenemos una red dirigida, se calcula por separado el **IN**CLOSENESS y el **OUT**CLOSENESS.\n",
    "* Intermediación o **BETWEENNESS**: Indica que tanto es necesario un nodo para que algun nodo llegue a otro nodo. Esta importancia nace también del concepto del geodésico, pues un actor con alto betweenness aparece mucho en los geodésicos de la red,  y en el caso extremo, tiene la capacidad de desconectar a la red.\n",
    "\n",
    "La Figura 6 ejemplifica estos conceptos.\n",
    "\n",
    "<figure>\n",
    "<img src=\"https://github.com/MAGALLANESJoseManuel/MGPIT_Pol748_Redes_2/raw/main/picsForSession/centrality.png\" style=\"width:70%\">\n",
    "<figcaption align = \"center\"> Figura 6. Degree, Closeness y Betweenness. \n",
    " </figcaption>\n",
    " <a href=\"https://www.mdpi.com/2071-1050/14/7/3897\">Fuente: Sustainability</a>\n",
    "</figure>\n",
    "\n",
    "Aquí podemos ver estas medidas para todos los actores:"
   ]
  },
  {
   "cell_type": "code",
   "execution_count": null,
   "id": "0b2cfdd8",
   "metadata": {},
   "outputs": [],
   "source": [
    "actorMeasures=pd.concat([pd.DataFrame.from_dict(nx.out_degree_centrality(TopFromAdjacency),\n",
    "                                  orient='index',\n",
    "                                  columns=['OutDegree']),\n",
    "           pd.DataFrame.from_dict(nx.in_degree_centrality(TopFromAdjacency),\n",
    "                                  orient='index',\n",
    "                                  columns=['InDegree']),\n",
    "           pd.DataFrame.from_dict(nx.closeness_centrality(TopFromAdjacency.reverse()),\n",
    "                                  orient='index',\n",
    "                                  columns=['OutCloseness']),\n",
    "           pd.DataFrame.from_dict(nx.closeness_centrality(TopFromAdjacency),\n",
    "                                  orient='index',\n",
    "                                  columns=['InCloseness']),\n",
    "           pd.DataFrame.from_dict(nx.betweenness_centrality(TopFromAdjacency),\n",
    "                                  orient='index',\n",
    "                                  columns=['Betweenness'])],axis=1)\n",
    "## data\n",
    "actorMeasures"
   ]
  },
  {
   "cell_type": "markdown",
   "id": "815fe910-e329-4d33-aef8-d20aed0a8d16",
   "metadata": {},
   "source": [
    "Las Figuras 7 y 8 revelan los actores más relevantes."
   ]
  },
  {
   "cell_type": "code",
   "execution_count": null,
   "id": "3cc9f072",
   "metadata": {},
   "outputs": [],
   "source": [
    "import matplotlib.pyplot as plt\n",
    "\n",
    "fig, ax = plt.subplots(figsize=(10,10))\n",
    "\n",
    "ax.scatter(actorMeasures.OutCloseness, actorMeasures.InCloseness,s=1000*actorMeasures.InDegree,\n",
    "           c=100*actorMeasures.Betweenness,\n",
    "           cmap=plt.get_cmap('YlOrRd'), alpha=0.6)\n",
    "\n",
    "valsForAnnotate=zip(actorMeasures.index,actorMeasures.OutCloseness,actorMeasures.InCloseness)\n",
    "for name,coordX,coordY in valsForAnnotate:\n",
    "    ax.annotate(name, (coordX,coordY),alpha=0.5)\n",
    "    \n",
    "plt.title(\"Figura 7. Centralidad - I (size para In_Degree, color for Betweenness)\", y=-0.1)\n",
    "plt.xlabel(\"Out_Closeness\")\n",
    "plt.ylabel(\"In_Closeness\")\n",
    "plt.show()"
   ]
  },
  {
   "cell_type": "code",
   "execution_count": null,
   "id": "76d63cdb",
   "metadata": {},
   "outputs": [],
   "source": [
    "fig, ax = plt.subplots(figsize=(10,10))\n",
    "\n",
    "ax.scatter(actorMeasures.OutCloseness, actorMeasures.InCloseness,s=1000*actorMeasures.OutDegree,\n",
    "           c=100*actorMeasures.Betweenness,\n",
    "           cmap=plt.get_cmap('YlOrRd'), alpha=0.6)\n",
    "\n",
    "valsForAnnotate=zip(actorMeasures.index,actorMeasures.OutCloseness,actorMeasures.InCloseness)\n",
    "for name,coordX,coordY in valsForAnnotate:\n",
    "    ax.annotate(name, (coordX,coordY),alpha=0.5)\n",
    "    \n",
    "plt.title(\"Figura 8. Centralidad - II (size para Out_Degree, color for Betweenness)\", y=-0.1)\n",
    "plt.xlabel(\"Out_Closeness\")\n",
    "plt.ylabel(\"In_Closeness\")\n",
    "plt.show()"
   ]
  },
  {
   "cell_type": "markdown",
   "id": "b3c5df2d-626d-4fd1-b279-d72c0fe63ae4",
   "metadata": {},
   "source": [
    "# Practicando con UCINET"
   ]
  },
  {
   "cell_type": "markdown",
   "id": "9ea29c7d-fffb-4d96-91a1-7322299e006c",
   "metadata": {},
   "source": [
    "### Pasos previos en UCINET\n",
    "\n",
    "Para comenzar, no olvide indicar que **data** es el folder por defecto. Abramos en UCINET la matriz de adyacencia como en la sesión anterior (usando el **Matrix Editor**):\n",
    " \n",
    " \n",
    "<img src=\"https://i.imgur.com/5CcgRfx.png\" width=\"800\"/>\n",
    "\n",
    "La matriz de adyacencia se abrirá en el editor. Guardela en el formato de UCINET:\n",
    "\n",
    "\n",
    "<img src=\"https://i.imgur.com/5RIrcza.png\" width=\"800\"/>\n",
    "\n",
    "A esta altura, ya debes tener un archivo de UCINET con esta red.\n",
    "\n",
    "\n",
    "<img src=\"https://i.imgur.com/2lZCLEg.png\" width=\"800\"/>"
   ]
  },
  {
   "cell_type": "markdown",
   "id": "aa2878b7-7c22-4da9-8dc2-4f2a1d0d1f9b",
   "metadata": {},
   "source": [
    "###  Distancia y Geodesicos en UCINET\n",
    "\n",
    "UCINET puede calcular la matriz de geodésicos desde el menú principal, seleccionando **Network** y **Dyadic Mesures**:\n",
    "\n",
    "<figure>\n",
    "<img src=\"https://github.com/MAGALLANESJoseManuel/MGPIT_Pol748_Redes_2/raw/main/picsForSession/UCI_geodesMtx.png\" style=\"width:70%\">\n",
    "<figcaption align = \"center\"> Figura 9. Ruta hacia la matriz de geodésicos en UCINET. \n",
    " </figcaption>\n",
    " Fuente: UCINET\n",
    "</figure>"
   ]
  },
  {
   "cell_type": "markdown",
   "id": "c6149260",
   "metadata": {},
   "source": [
    "<div class=\"alert-success\">\n",
    "\n",
    "## Ejercicio 1\n",
    "\n",
    "La Figura 10 le muestra el menú para calcular la matriz de geodésicos.\n",
    "\n",
    "<figure>\n",
    "<img src=\"https://github.com/MAGALLANESJoseManuel/MGPIT_Pol748_Redes_2/raw/main/picsForSession/UCI_geodesMtx_Ex1.png\" style=\"width:70%\">\n",
    "<figcaption align = \"center\"> Figura 10. Menú para obtener matriz de geodésicos en UCINET. \n",
    " </figcaption>\n",
    " Fuente: UCINET\n",
    "</figure>\n",
    "    \n",
    "1. ¿Qué entiende de las opciones que se muestran en la parte inferior de la Figura 10? \n",
    "2. Si dejas las opciones de la Figura 10, ¿obtienes lo mismo que Python?\n",
    "3. Proponga un ejemplo donde a mayor diámetro más perjudicial para la red.\n",
    "4. Proponga un ejemplo donde a mayor diámetro más beneficioso para la red. \n",
    "5. Proponga un ejemplo donde a menor diámetro más beneficioso para la red.\n",
    "6. Proponga un ejemplo donde a menor diámetro más perjudicial para la red.\n",
    "\n",
    "_Prepara su respuesta con texto e imagenes de los obtenido en un GoogleDoc_.\n",
    "</div>"
   ]
  },
  {
   "cell_type": "markdown",
   "id": "caed4d77-d59f-4c60-8602-5c4837fad025",
   "metadata": {},
   "source": [
    "###  Alcanzabilidad en UCINET\n",
    "\n",
    "UCINET tiene la función para calcular la _Reachability Matrix_. La Figura 11 muestra la ruta:\n",
    "\n",
    "<figure>\n",
    "<img src=\"https://github.com/MAGALLANESJoseManuel/MGPIT_Pol748_Redes_2/raw/main/picsForSession/UCI_ReachMtx.png\" style=\"width:70%\">\n",
    "<figcaption align = \"center\"> Figura 11. Menú para obtener matriz de alcanzabilidad en UCINET. \n",
    " </figcaption>\n",
    " Fuente: UCINET\n",
    "</figure>"
   ]
  },
  {
   "cell_type": "markdown",
   "id": "4186a072",
   "metadata": {},
   "source": [
    "<div class=\"alert-success\">\n",
    "\n",
    "## Ejercicio 2\n",
    "\n",
    "Proceda a calcular la matriz de alcanzabilidad. Cuando aparezcan los resultados, responda:\n",
    "    \n",
    "¿UCINET la da la misma información que ya se calculó con Python, o es muy diferente? \n",
    "\n",
    "_Prepara su respuesta con texto e imagenes de los obtenido en un GoogleDoc_.\n",
    "</div>"
   ]
  },
  {
   "cell_type": "markdown",
   "id": "945277cc",
   "metadata": {},
   "source": [
    "Para obtener los componentes fuertemente conectados en UCINET podemos seguir la ruta que indica la Figura 12.\n",
    "<figure>\n",
    "<img src=\"https://github.com/MAGALLANESJoseManuel/MGPIT_Pol748_Redes_2/raw/main/picsForSession/uci_components_menu.png\" style=\"width:70%\">\n",
    "<figcaption align = \"center\"> Figura 12. Menú para obtener componentes fuertemente conectados en UCINET. \n",
    " </figcaption>\n",
    " Fuente: UCINET\n",
    "</figure>\n",
    "\n",
    "Al usar esta configuración (note lo seleccionado en la Figura 13).\n",
    "\n",
    "<figure>\n",
    "<img src=\"https://github.com/MAGALLANESJoseManuel/MGPIT_Pol748_Redes_2/raw/main/picsForSession/uci_components_actors_menu.png\" style=\"width:70%\">\n",
    "<figcaption align = \"center\"> Figura 13. Cálculo de componentes fuertemente conectados en UCINET. \n",
    " </figcaption>\n",
    " Fuente: UCINET\n",
    "</figure>\n",
    "\n",
    "Usted obtendrá los componentes solicitados."
   ]
  },
  {
   "cell_type": "markdown",
   "id": "ce6f03bf",
   "metadata": {},
   "source": [
    "<div class=\"alert-success\">\n",
    "\n",
    "## Ejercicio 3\n",
    "\n",
    "Al ver los resultados obtenidos luego de ejecutar el menú de la Figura 13, responda:\n",
    "    \n",
    "1. ¿UCINET muestra los nodos que tienen una reachability muy bajo? \n",
    "2. ¿Qué información adicional a la ya mostrada en Python sobre componentes fuertemente conectados le ofrece UCINET? Si hay algo adicional a lo visto en clase, describa y explique brevemente.\n",
    "\n",
    "_Prepara su respuesta con texto e imagenes de los obtenido en un GoogleDoc_.\n",
    "</div>"
   ]
  },
  {
   "cell_type": "markdown",
   "id": "41459779",
   "metadata": {},
   "source": [
    "Para obtener la reciprocidad en UCINET podemos seguir la ruta que indica la Figura 14.\n",
    "<figure>\n",
    "<img src=\"https://github.com/MAGALLANESJoseManuel/MGPIT_Pol748_Redes_2/raw/main/picsForSession/ucinet_recip.png\" style=\"width:70%\">\n",
    "<figcaption align = \"center\"> Figura 14. Ruta para obtener la reciprocidad en UCINET. \n",
    " </figcaption>\n",
    " Fuente: UCINET\n",
    "</figure>\n",
    "\n",
    "A continuación, seleccione \"arc-based\" como indica la Figura 15.\n",
    "\n",
    "<figure>\n",
    "<img src=\"https://github.com/MAGALLANESJoseManuel/MGPIT_Pol748_Redes_2/raw/main/picsForSession/ucinet_recip_select.png\" style=\"width:70%\">\n",
    "<figcaption align = \"center\"> Figura 14. Ruta para obtener la reciprocidad en UCINET. \n",
    " </figcaption>\n",
    " Fuente: UCINET\n",
    "</figure>"
   ]
  },
  {
   "cell_type": "markdown",
   "id": "3f80d07b",
   "metadata": {},
   "source": [
    "<div class=\"alert-success\">\n",
    "\n",
    "## Ejercicio 4\n",
    "\n",
    "Al ver los resultados obtenidos luego de ejecutar el menú de la Figura 14, responda:\n",
    "    \n",
    "1. ¿Qué diferencias encuentra entre lo que muestra UCINET y se calculó antes en Python? \n",
    "2. Investigue qué significa Dyad-based que le ofrece UCINET. \n",
    "\n",
    "_Prepara su respuesta con texto e imagenes de los obtenido en un GoogleDoc_.\n",
    "</div>"
   ]
  },
  {
   "cell_type": "markdown",
   "id": "1a66d2dc-7d9a-4b39-a8d7-d0e73f38687b",
   "metadata": {},
   "source": [
    "###  Densidad en UCINET\n",
    "\n",
    "Calcular la densidad en UCINET es muy sencillo, como se muestra en la Figura 15.\n",
    "\n",
    "<figure>\n",
    "<img src=\"https://github.com/MAGALLANESJoseManuel/MGPIT_Pol748_Redes_2/raw/main/picsForSession/uci_densi.png\" style=\"width:70%\">\n",
    "<figcaption align = \"center\"> Figura 15. Ruta para obtener la densidad en UCINET. \n",
    " </figcaption>\n",
    " Fuente: UCINET\n",
    "</figure>"
   ]
  },
  {
   "cell_type": "markdown",
   "id": "a904c6cb",
   "metadata": {},
   "source": [
    "<div class=\"alert-success\">\n",
    "\n",
    "## Ejercicio 5\n",
    "\n",
    "Al ver los resultados obtenidos luego de ejecutar el menú de la Figura 15, responda:\n",
    "    \n",
    "¿Qué diferencias encuentra entre lo que muestra UCINET y se calculó antes en Python? \n",
    "\n",
    "\n",
    "_Prepara su respuesta con texto e imagenes de los obtenido en un GoogleDoc_.\n",
    "</div>"
   ]
  },
  {
   "cell_type": "markdown",
   "id": "1ea88f26-9fdd-4fbc-a976-35d4815472b8",
   "metadata": {},
   "source": [
    "###  Centralidad en UCINET"
   ]
  },
  {
   "cell_type": "markdown",
   "id": "abf3ea7e-39d5-4625-99fd-394437822ecc",
   "metadata": {},
   "source": [
    "Calcular la centralidad de los nodos en UCINET es muy sencillo, como se muestra en la Figura 16.\n",
    "\n",
    "<figure>\n",
    "<img src=\"https://github.com/MAGALLANESJoseManuel/MGPIT_Pol748_Redes_2/raw/main/picsForSession/uci_centrality_menu.png\" style=\"width:70%\">\n",
    "<figcaption align = \"center\"> Figura 16. Ruta para obtener la centralidad de cada nodo en UCINET. \n",
    " </figcaption>\n",
    " Fuente: UCINET\n",
    "</figure>"
   ]
  },
  {
   "cell_type": "markdown",
   "id": "aa572b1c-de8c-434d-ad9c-083b34a38d68",
   "metadata": {},
   "source": [
    "<div class=\"alert-success\">\n",
    "\n",
    "## Ejercicio 6\n",
    "\n",
    "Luego del paso anterior, ejecute el menú de la Figura 17, seleccionando las TRES medidas indicadas.\n",
    "\n",
    "<figure>\n",
    "<img src=\"https://github.com/MAGALLANESJoseManuel/MGPIT_Pol748_Redes_2/raw/main/picsForSession/uci_centrality_exer.png\" style=\"width:70%\">\n",
    "<figcaption align = \"center\"> Figura 17. Opciones para calcular la centralidad en UCINET. \n",
    " </figcaption>\n",
    " Fuente: UCINET\n",
    "</figure>\n",
    "    \n",
    "¿Qué diferencias encuentra entre lo que muestra UCINET y se calculó antes en Python? \n",
    "\n",
    "_Prepara su respuesta con texto e imagenes de los obtenido en un GoogleDoc_.\n",
    "</div>"
   ]
  }
 ],
 "metadata": {
  "kernelspec": {
   "display_name": "Python 3 (ipykernel)",
   "language": "python",
   "name": "python3"
  },
  "language_info": {
   "codemirror_mode": {
    "name": "ipython",
    "version": 3
   },
   "file_extension": ".py",
   "mimetype": "text/x-python",
   "name": "python",
   "nbconvert_exporter": "python",
   "pygments_lexer": "ipython3",
   "version": "3.11.9"
  }
 },
 "nbformat": 4,
 "nbformat_minor": 5
}
